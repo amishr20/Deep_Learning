{
 "cells": [
  {
   "cell_type": "markdown",
   "metadata": {},
   "source": [
    "# # IDS576: Assignment 2"
   ]
  },
  {
   "cell_type": "markdown",
   "metadata": {},
   "source": [
    "### Solution 1"
   ]
  },
  {
   "cell_type": "markdown",
   "metadata": {},
   "source": [
    "### 1.1 Get Xij: the number of users that liked both movies i and j. "
   ]
  },
  {
   "cell_type": "code",
   "execution_count": 70,
   "metadata": {
    "collapsed": true
   },
   "outputs": [],
   "source": [
    "# Read data from file\n",
    "import pandas as pd\n",
    "\n",
    "df = pd.read_csv(\"C:/E!!/UIC/Semester SPRING 2017/IDS576_Adv_Predictive_Analytics/Assignments/Assgn2/movieratings.csv\", header = None)\n",
    "df.columns = ['Movie_ID','User_ID','Rating']"
   ]
  },
  {
   "cell_type": "code",
   "execution_count": 4,
   "metadata": {
    "collapsed": false
   },
   "outputs": [
    {
     "data": {
      "text/html": [
       "<div>\n",
       "<table border=\"1\" class=\"dataframe\">\n",
       "  <thead>\n",
       "    <tr style=\"text-align: right;\">\n",
       "      <th></th>\n",
       "      <th></th>\n",
       "      <th>User_ID</th>\n",
       "    </tr>\n",
       "    <tr>\n",
       "      <th>Movie_ID</th>\n",
       "      <th>Rating</th>\n",
       "      <th></th>\n",
       "    </tr>\n",
       "  </thead>\n",
       "  <tbody>\n",
       "    <tr>\n",
       "      <th rowspan=\"2\" valign=\"top\">1</th>\n",
       "      <th>0</th>\n",
       "      <td>63218</td>\n",
       "    </tr>\n",
       "    <tr>\n",
       "      <th>1</th>\n",
       "      <td>152391</td>\n",
       "    </tr>\n",
       "    <tr>\n",
       "      <th rowspan=\"2\" valign=\"top\">2</th>\n",
       "      <th>0</th>\n",
       "      <td>38147</td>\n",
       "    </tr>\n",
       "    <tr>\n",
       "      <th>1</th>\n",
       "      <td>26306</td>\n",
       "    </tr>\n",
       "    <tr>\n",
       "      <th>3</th>\n",
       "      <th>0</th>\n",
       "      <td>24743</td>\n",
       "    </tr>\n",
       "  </tbody>\n",
       "</table>\n",
       "</div>"
      ],
      "text/plain": [
       "                 User_ID\n",
       "Movie_ID Rating         \n",
       "1        0         63218\n",
       "         1        152391\n",
       "2        0         38147\n",
       "         1         26306\n",
       "3        0         24743"
      ]
     },
     "execution_count": 4,
     "metadata": {},
     "output_type": "execute_result"
    }
   ],
   "source": [
    "corr = df.groupby(['Movie_ID','Rating'])\n",
    "import numpy as np\n",
    "corr.aggregate(np.sum).head(5)"
   ]
  },
  {
   "cell_type": "code",
   "execution_count": 7,
   "metadata": {
    "collapsed": false
   },
   "outputs": [
    {
     "name": "stdout",
     "output_type": "stream",
     "text": [
      "1682\n"
     ]
    }
   ],
   "source": [
    "movie_ids = df.Movie_ID.unique()\n",
    "movie_ids_sorted = sorted(movie_ids) \n",
    "print(len(movie_ids))\n",
    "#print(movie_ids_sorted)"
   ]
  },
  {
   "cell_type": "code",
   "execution_count": 72,
   "metadata": {
    "collapsed": false
   },
   "outputs": [],
   "source": [
    "# Code for creating the co-occurrence matrix (Takes 120 mins approx)\n",
    "# df.columns = ['Movie_ID','User_ID','Rating']\n",
    "import numpy as np\n",
    "corr =  np.zeros((1683, 1683))\n",
    "for i in movie_ids_sorted:\n",
    "    arr1 = df.loc[(df['Movie_ID'] == i) & (df['Rating'] == 1)]  # Array of users liking the movie i\n",
    "    arr1_uid = arr1.User_ID\n",
    "    for j in movie_ids_sorted:\n",
    "        arr2 = df.loc[(df['Movie_ID'] == j) & (df['Rating'] == 1)]  # Array of users liking the movie j\n",
    "        arr2_uid = arr2.User_ID\n",
    "        corr[i][j] = len(list(set(arr1_uid).intersection(arr2_uid)))\n",
    "np.savetxt(\"C:/E!!/UIC/Semester SPRING 2017/IDS576_Adv_Predictive_Analytics/Assignments/Assgn2/cooccurrence_matrix.csv\", corr, delimiter=\",\")"
   ]
  },
  {
   "cell_type": "code",
   "execution_count": 42,
   "metadata": {
    "collapsed": false
   },
   "outputs": [],
   "source": [
    "# Access Co-occurrence matrix saved in the above location to save time for future runs.\n",
    "df3 = pd.read_csv(\"C:/E!!/UIC/Semester SPRING 2017/IDS576_Adv_Predictive_Analytics/Assignments/Assgn2/cooccurrence_matrix.csv\", header = None)\n",
    "#df2[1][2]\n",
    "df2 = df3/df3.values.max()\n"
   ]
  },
  {
   "cell_type": "markdown",
   "metadata": {},
   "source": [
    "### 1.2 Optimize function using gradient descent"
   ]
  },
  {
   "cell_type": "markdown",
   "metadata": {},
   "source": [
    "#### 1.2.1 when all the vectors are initialized to zeros"
   ]
  },
  {
   "cell_type": "code",
   "execution_count": 195,
   "metadata": {
    "collapsed": false
   },
   "outputs": [
    {
     "name": "stdout",
     "output_type": "stream",
     "text": [
      "iteration:  0  | loss:  698.2985685315965\n",
      "iteration:  2  | loss:  698.2985685315965\n",
      "iteration:  4  | loss:  698.2985685315965\n",
      "iteration:  6  | loss:  698.2985685315965\n",
      "iteration:  8  | loss:  698.2985685315965\n",
      "iteration:  10  | loss:  698.2985685315965\n",
      "iteration:  12  | loss:  698.2985685315965\n",
      "iteration:  14  | loss:  698.2985685315965\n",
      "iteration:  16  | loss:  698.2985685315965\n",
      "iteration:  18  | loss:  698.2985685315965\n",
      "coocc:  (1683, 1683)\n",
      "dloss:  (1683, 100)\n",
      "Y:  (1683, 1683)\n"
     ]
    }
   ],
   "source": [
    "import matplotlib.pyplot as plt\n",
    "np.random.seed(123)\n",
    "movie_vec=np.zeros((1683,100))\n",
    "\n",
    "def gradient_descent(v, Y, learning_rate, trials):\n",
    "    \n",
    "    #Initial value for the Gradient Descent Parameter\n",
    "    step_size = learning_rate #Also called learning rate\n",
    "    iterations=trials\n",
    "    data_loss = np.zeros(iterations)\n",
    "    coocc_dot_prod = np.zeros((1683,1683))\n",
    "\n",
    "    # gradient descent loop\n",
    "    for n in range(0,iterations):\n",
    "        #print(\"iteration: \",n)\n",
    "        for i in movie_ids_sorted:\n",
    "            #if i % 100 == 0:\n",
    "                #print(\"     i: \", i)\n",
    "            for j in movie_ids_sorted:\n",
    "                if (i != j):\n",
    "                    coocc_dot_prod[i][j] = np.dot(v[i].T,v[j])  # 1683*1683 # and i < 1683 and j < 1683\n",
    "            \n",
    "        \n",
    "        loss = np.sum(np.sum((coocc_dot_prod - Y)**2))\n",
    "        \n",
    "        #data_loss[n]=loss\n",
    "        #print(loss)\n",
    "        if n % 2 == 0:\n",
    "            print(\"iteration: \", n, \" | loss: \", loss)\n",
    "\n",
    "        # compute the gradient\n",
    "        dloss =np.dot(2*(coocc_dot_prod - Y),v)             # [1683*1683],[1683*100] = [1683,100]\n",
    "\n",
    "        # perform a parameter update        \n",
    "        v += -step_size * dloss\n",
    "    \n",
    "    print(\"coocc: \",coocc_dot_prod.shape)\n",
    "    print(\"dloss: \",dloss.shape)\n",
    "    print(\"Y: \",Y.shape)\n",
    "    return v, data_loss;\n",
    "\n",
    "\n",
    "#trial1 = gradient_descent(movie_vec,df2,0.00001,200)\n",
    "trial2 = gradient_descent(movie_vec,df2,0.001,20)\n"
   ]
  },
  {
   "cell_type": "code",
   "execution_count": 204,
   "metadata": {
    "collapsed": false
   },
   "outputs": [
    {
     "data": {
      "image/png": "[encoded data removed]",
      "text/plain": [
       "<matplotlib.figure.Figure at 0x1ddb53728d0>"
      ]
     },
     "metadata": {},
     "output_type": "display_data"
    }
   ],
   "source": [
    "plt.plot(np.arange(0, 20),trial2[1],'r') # plotting t,a separately \n",
    "plt.xlabel(\"# Num of iterations\")\n",
    "plt.ylabel(\"Loss\")\n",
    "plt.title('Plot for Loss Function')\n",
    "plt.text(15, max(trial1[1])-0.02, 'alpha = 0.0001' ,color = 'red')\n",
    "plt.show()"
   ]
  },
  {
   "cell_type": "markdown",
   "metadata": {},
   "source": [
    "#### 1.2.2 Each coordinate of each vector is i.i.d random uniform between [-0.7, 0.7]"
   ]
  },
  {
   "cell_type": "code",
   "execution_count": 205,
   "metadata": {
    "collapsed": false
   },
   "outputs": [
    {
     "name": "stdout",
     "output_type": "stream",
     "text": [
      "iteration:  0  | loss:  22570775.522\n",
      "iteration:  5  | loss:  8367655.09392\n",
      "iteration:  10  | loss:  4614004.50723\n",
      "iteration:  15  | loss:  2974391.09055\n",
      "iteration:  20  | loss:  2092651.22576\n",
      "iteration:  25  | loss:  1558486.72325\n",
      "iteration:  30  | loss:  1208449.40636\n",
      "iteration:  35  | loss:  965817.334752\n",
      "iteration:  40  | loss:  790349.357846\n",
      "iteration:  45  | loss:  659161.18459\n",
      "iteration:  50  | loss:  558408.412952\n",
      "iteration:  55  | loss:  479294.478277\n",
      "iteration:  60  | loss:  416002.367455\n",
      "iteration:  65  | loss:  364555.443516\n",
      "iteration:  70  | loss:  322157.695759\n",
      "iteration:  75  | loss:  286795.238575\n",
      "iteration:  80  | loss:  256986.841314\n",
      "iteration:  85  | loss:  231622.861495\n",
      "iteration:  90  | loss:  209858.418964\n",
      "iteration:  95  | loss:  191040.846874\n",
      "iteration:  100  | loss:  174659.374545\n",
      "iteration:  105  | loss:  160309.567426\n",
      "iteration:  110  | loss:  147667.767588\n",
      "iteration:  115  | loss:  136472.439039\n",
      "iteration:  120  | loss:  126510.361757\n",
      "iteration:  125  | loss:  117606.283431\n",
      "iteration:  130  | loss:  109615.071936\n",
      "iteration:  135  | loss:  102415.699961\n",
      "iteration:  140  | loss:  95906.588056\n",
      "iteration:  145  | loss:  90001.9660189\n",
      "iteration:  150  | loss:  84629.0055297\n",
      "iteration:  155  | loss:  79725.5424745\n",
      "iteration:  160  | loss:  75238.2541645\n",
      "iteration:  165  | loss:  71121.1903886\n",
      "iteration:  170  | loss:  67334.5818381\n",
      "iteration:  175  | loss:  63843.8675614\n",
      "iteration:  180  | loss:  60618.896568\n",
      "iteration:  185  | loss:  57633.2687987\n",
      "iteration:  190  | loss:  54863.78831\n",
      "iteration:  195  | loss:  52290.0073369\n",
      "iteration:  200  | loss:  49893.844356\n",
      "iteration:  205  | loss:  47659.262724\n",
      "iteration:  210  | loss:  45571.9991442\n",
      "iteration:  215  | loss:  43619.3333171\n",
      "iteration:  220  | loss:  41789.8917799\n",
      "iteration:  225  | loss:  40073.4802533\n",
      "iteration:  230  | loss:  38460.9398512\n",
      "iteration:  235  | loss:  36944.0233486\n",
      "iteration:  240  | loss:  35515.2883666\n",
      "iteration:  245  | loss:  34168.0048831\n",
      "iteration:  250  | loss:  32896.0749104\n",
      "iteration:  255  | loss:  31693.9625442\n",
      "iteration:  260  | loss:  30556.6328804\n",
      "iteration:  265  | loss:  29479.4985363\n",
      "iteration:  270  | loss:  28458.3727123\n",
      "iteration:  275  | loss:  27489.4278967\n",
      "iteration:  280  | loss:  26569.1594495\n",
      "iteration:  285  | loss:  25694.3534173\n",
      "iteration:  290  | loss:  24862.0580282\n",
      "iteration:  295  | loss:  24069.558391\n",
      "iteration:  300  | loss:  23314.3539963\n",
      "iteration:  305  | loss:  22594.1386683\n",
      "iteration:  310  | loss:  21906.7826686\n",
      "iteration:  315  | loss:  21250.3166922\n",
      "iteration:  320  | loss:  20622.9175289\n",
      "iteration:  325  | loss:  20022.8951986\n",
      "iteration:  330  | loss:  19448.6813862\n",
      "iteration:  335  | loss:  18898.8190319\n",
      "iteration:  340  | loss:  18371.9529453\n",
      "iteration:  345  | loss:  17866.8213304\n",
      "iteration:  350  | loss:  17382.2481223\n",
      "iteration:  355  | loss:  16917.1360488\n",
      "iteration:  360  | loss:  16470.4603384\n",
      "iteration:  365  | loss:  16041.2630086\n",
      "iteration:  370  | loss:  15628.6476731\n",
      "iteration:  375  | loss:  15231.7748155\n",
      "iteration:  380  | loss:  14849.8574829\n",
      "iteration:  385  | loss:  14482.1573554\n",
      "iteration:  390  | loss:  14127.9811575\n",
      "iteration:  395  | loss:  13786.6773755\n",
      "iteration:  400  | loss:  13457.6332524\n",
      "iteration:  405  | loss:  13140.2720341\n",
      "iteration:  410  | loss:  12834.0504427\n",
      "iteration:  415  | loss:  12538.4563564\n",
      "iteration:  420  | loss:  12253.0066755\n",
      "iteration:  425  | loss:  11977.2453597\n",
      "iteration:  430  | loss:  11710.7416193\n",
      "iteration:  435  | loss:  11453.0882474\n",
      "iteration:  440  | loss:  11203.900081\n",
      "iteration:  445  | loss:  10962.8125781\n",
      "iteration:  450  | loss:  10729.4805036\n",
      "iteration:  455  | loss:  10503.5767114\n",
      "iteration:  460  | loss:  10284.7910169\n",
      "iteration:  465  | loss:  10072.8291513\n",
      "iteration:  470  | loss:  9867.41179136\n",
      "iteration:  475  | loss:  9668.27365778\n",
      "iteration:  480  | loss:  9475.16267721\n",
      "iteration:  485  | loss:  9287.83920255\n",
      "iteration:  490  | loss:  9106.07528683\n",
      "iteration:  495  | loss:  8929.65400654\n",
      "iteration:  500  | loss:  8758.36883045\n",
      "iteration:  505  | loss:  8592.02303056\n",
      "iteration:  510  | loss:  8430.42913174\n",
      "iteration:  515  | loss:  8273.4083973\n",
      "iteration:  520  | loss:  8120.79034781\n",
      "iteration:  525  | loss:  7972.41231054\n",
      "iteration:  530  | loss:  7828.11899741\n",
      "iteration:  535  | loss:  7687.76210943\n",
      "iteration:  540  | loss:  7551.19996554\n",
      "iteration:  545  | loss:  7418.2971543\n",
      "iteration:  550  | loss:  7288.92420671\n",
      "iteration:  555  | loss:  7162.95728876\n",
      "iteration:  560  | loss:  7040.27791228\n",
      "iteration:  565  | loss:  6920.77266296\n",
      "iteration:  570  | loss:  6804.33294418\n",
      "iteration:  575  | loss:  6690.85473587\n",
      "iteration:  580  | loss:  6580.2383671\n",
      "iteration:  585  | loss:  6472.38830178\n",
      "iteration:  590  | loss:  6367.2129364\n",
      "iteration:  595  | loss:  6264.62440921\n",
      "iteration:  600  | loss:  6164.53841994\n",
      "iteration:  605  | loss:  6066.87405954\n",
      "iteration:  610  | loss:  5971.55364926\n",
      "iteration:  615  | loss:  5878.50258843\n",
      "iteration:  620  | loss:  5787.64921054\n",
      "iteration:  625  | loss:  5698.92464699\n",
      "iteration:  630  | loss:  5612.26269805\n",
      "iteration:  635  | loss:  5527.59971073\n",
      "iteration:  640  | loss:  5444.87446299\n",
      "iteration:  645  | loss:  5364.02805401\n",
      "iteration:  650  | loss:  5285.00380008\n",
      "iteration:  655  | loss:  5207.74713598\n",
      "iteration:  660  | loss:  5132.20552118\n",
      "iteration:  665  | loss:  5058.328351\n",
      "iteration:  670  | loss:  4986.06687215\n",
      "iteration:  675  | loss:  4915.37410243\n",
      "iteration:  680  | loss:  4846.20475459\n",
      "iteration:  685  | loss:  4778.51516378\n",
      "iteration:  690  | loss:  4712.26321866\n",
      "iteration:  695  | loss:  4647.40829584\n",
      "iteration:  700  | loss:  4583.9111975\n",
      "iteration:  705  | loss:  4521.73409202\n",
      "iteration:  710  | loss:  4460.84045742\n",
      "iteration:  715  | loss:  4401.19502753\n",
      "iteration:  720  | loss:  4342.76374067\n",
      "iteration:  725  | loss:  4285.51369078\n",
      "iteration:  730  | loss:  4229.41308082\n",
      "iteration:  735  | loss:  4174.43117826\n",
      "iteration:  740  | loss:  4120.53827277\n",
      "iteration:  745  | loss:  4067.7056357\n",
      "iteration:  750  | loss:  4015.90548151\n",
      "iteration:  755  | loss:  3965.1109309\n",
      "iteration:  760  | loss:  3915.29597562\n",
      "iteration:  765  | loss:  3866.43544483\n",
      "iteration:  770  | loss:  3818.50497298\n",
      "iteration:  775  | loss:  3771.48096915\n",
      "iteration:  780  | loss:  3725.34058762\n",
      "iteration:  785  | loss:  3680.06169987\n",
      "iteration:  790  | loss:  3635.62286771\n",
      "iteration:  795  | loss:  3592.00331758\n",
      "iteration:  800  | loss:  3549.18291599\n",
      "iteration:  805  | loss:  3507.14214597\n",
      "iteration:  810  | loss:  3465.86208455\n",
      "iteration:  815  | loss:  3425.3243812\n",
      "iteration:  820  | loss:  3385.51123712\n",
      "iteration:  825  | loss:  3346.40538545\n",
      "iteration:  830  | loss:  3307.9900723\n",
      "iteration:  835  | loss:  3270.24903852\n",
      "iteration:  840  | loss:  3233.16650228\n",
      "iteration:  845  | loss:  3196.7271423\n",
      "iteration:  850  | loss:  3160.91608181\n",
      "iteration:  855  | loss:  3125.71887313\n",
      "iteration:  860  | loss:  3091.12148288\n",
      "iteration:  865  | loss:  3057.11027778\n",
      "iteration:  870  | loss:  3023.67201103\n",
      "iteration:  875  | loss:  2990.79380917\n",
      "iteration:  880  | loss:  2958.46315954\n",
      "iteration:  885  | loss:  2926.66789818\n",
      "iteration:  890  | loss:  2895.39619819\n",
      "iteration:  895  | loss:  2864.63655858\n",
      "iteration:  900  | loss:  2834.37779352\n",
      "iteration:  905  | loss:  2804.609022\n",
      "iteration:  910  | loss:  2775.31965791\n",
      "iteration:  915  | loss:  2746.49940047\n",
      "iteration:  920  | loss:  2718.13822504\n",
      "iteration:  925  | loss:  2690.22637422\n",
      "iteration:  930  | loss:  2662.7543494\n",
      "iteration:  935  | loss:  2635.71290247\n",
      "iteration:  940  | loss:  2609.09302796\n",
      "iteration:  945  | loss:  2582.88595541\n",
      "iteration:  950  | loss:  2557.08314203\n",
      "iteration:  955  | loss:  2531.67626562\n",
      "iteration:  960  | loss:  2506.65721775\n",
      "iteration:  965  | loss:  2482.01809722\n",
      "iteration:  970  | loss:  2457.75120366\n",
      "iteration:  975  | loss:  2433.84903148\n",
      "iteration:  980  | loss:  2410.30426392\n",
      "iteration:  985  | loss:  2387.10976742\n",
      "iteration:  990  | loss:  2364.25858607\n",
      "iteration:  995  | loss:  2341.74393635\n",
      "coocc:  (1683, 1683)\n",
      "dloss:  (1683, 300)\n",
      "Y:  (1683, 1683)\n"
     ]
    }
   ],
   "source": [
    "import matplotlib.pyplot as plt\n",
    "np.random.seed(123)\n",
    "movie_vec=np.random.uniform(-0.7,0.7,(1683,300))\n",
    "\n",
    "def gradient_descent(v, Y, learning_rate, trials,reg):\n",
    "    \n",
    "    #Initial value for the Gradient Descent Parameter\n",
    "    step_size = learning_rate #Also called learning rate\n",
    "    iterations=trials\n",
    "    data_loss = np.zeros(iterations)\n",
    "    coocc_dot_prod = np.zeros((1683,1683))\n",
    "\n",
    "    # gradient descent loop\n",
    "    for n in range(0,iterations):\n",
    "        #print(\"iteration: \",n)\n",
    "        for i in movie_ids_sorted:\n",
    "            #if i % 100 == 0:\n",
    "                #print(\"     i: \", i)\n",
    "            for j in movie_ids_sorted:\n",
    "                if (i != j):\n",
    "                    coocc_dot_prod[i][j] = np.dot(v[i].T,v[j])  # 1683*1683 \n",
    "            \n",
    "        \n",
    "        loss = np.sum(np.sum((coocc_dot_prod - Y)**2))\n",
    "        reg_loss = 0.5*reg*np.sum(v*v)\n",
    "        \n",
    "        data_loss[n]=loss + reg_loss\n",
    "        #print(loss)\n",
    "        if n % 5 == 0:\n",
    "            print(\"iteration: \", n, \" | loss: \", data_loss[n])\n",
    "\n",
    "        # compute the gradient\n",
    "        dloss =np.dot(2*(coocc_dot_prod - Y),v)             # [1683*1683],[1683*100] = [1683,100]\n",
    "        dloss += reg*v\n",
    "\n",
    "        # perform a parameter update        \n",
    "        v += -step_size * dloss\n",
    "    \n",
    "    print(\"coocc: \",coocc_dot_prod.shape)\n",
    "    print(\"dloss: \",dloss.shape)\n",
    "    print(\"Y: \",Y.shape)\n",
    "    return v, data_loss;\n",
    "\n",
    "\n",
    "\n",
    "#trial1 = gradient_descent(movie_vec,df2,0.001,200)\n",
    "trial1 = gradient_descent(movie_vec,df2,0.0001,1000,0.0001)"
   ]
  },
  {
   "cell_type": "code",
   "execution_count": 176,
   "metadata": {
    "collapsed": false
   },
   "outputs": [
    {
     "data": {
      "image/png": "[encoded data removed]",
      "text/plain": [
       "<matplotlib.figure.Figure at 0x1ddb1a7deb8>"
      ]
     },
     "metadata": {},
     "output_type": "display_data"
    }
   ],
   "source": [
    "plt.plot(np.arange(0, 1000),trial1[1],'r') # plotting t,a separately \n",
    "plt.xlabel(\"# Num of iterations\")\n",
    "plt.ylabel(\"Loss\")\n",
    "plt.title('Plot for Loss Function')\n",
    "plt.text(100, max(trial1[1])-0.2, 'alpha = 0.0001' ,color = 'red')\n",
    "plt.show()"
   ]
  },
  {
   "cell_type": "markdown",
   "metadata": {},
   "source": [
    "### 1.3 Recommend top 10 movies (not vectors or indices but movie names) given movie Aladdin.\n",
    "\n",
    "Recommendation Strategy: We have used cosine-similarity to find how similar two movie vectors are and then have recommended the top 10 vectors."
   ]
  },
  {
   "cell_type": "code",
   "execution_count": 177,
   "metadata": {
    "collapsed": false,
    "scrolled": true
   },
   "outputs": [
    {
     "data": {
      "text/html": [
       "<div>\n",
       "<table border=\"1\" class=\"dataframe\">\n",
       "  <thead>\n",
       "    <tr style=\"text-align: right;\">\n",
       "      <th></th>\n",
       "      <th>Movie_ID</th>\n",
       "      <th>Movie_Name</th>\n",
       "      <th>Junk</th>\n",
       "    </tr>\n",
       "  </thead>\n",
       "  <tbody>\n",
       "    <tr>\n",
       "      <th>0</th>\n",
       "      <td>1</td>\n",
       "      <td>Toy Story (1995)</td>\n",
       "      <td>NaN</td>\n",
       "    </tr>\n",
       "    <tr>\n",
       "      <th>1</th>\n",
       "      <td>2</td>\n",
       "      <td>GoldenEye (1995)</td>\n",
       "      <td>NaN</td>\n",
       "    </tr>\n",
       "    <tr>\n",
       "      <th>2</th>\n",
       "      <td>3</td>\n",
       "      <td>Four Rooms (1995)</td>\n",
       "      <td>NaN</td>\n",
       "    </tr>\n",
       "    <tr>\n",
       "      <th>3</th>\n",
       "      <td>4</td>\n",
       "      <td>Get Shorty (1995)</td>\n",
       "      <td>NaN</td>\n",
       "    </tr>\n",
       "    <tr>\n",
       "      <th>4</th>\n",
       "      <td>5</td>\n",
       "      <td>Copycat (1995)</td>\n",
       "      <td>NaN</td>\n",
       "    </tr>\n",
       "  </tbody>\n",
       "</table>\n",
       "</div>"
      ],
      "text/plain": [
       "   Movie_ID         Movie_Name Junk\n",
       "0         1   Toy Story (1995)  NaN\n",
       "1         2   GoldenEye (1995)  NaN\n",
       "2         3  Four Rooms (1995)  NaN\n",
       "3         4  Get Shorty (1995)  NaN\n",
       "4         5     Copycat (1995)  NaN"
      ]
     },
     "execution_count": 177,
     "metadata": {},
     "output_type": "execute_result"
    }
   ],
   "source": [
    "df5= pd.read_csv(\"C:/E!!/UIC/Semester SPRING 2017/IDS576_Adv_Predictive_Analytics/Assignments/Assgn2/movies.csv\", header = None, encoding='latin-1')\n",
    "df5.columns = ['Movie_ID','Movie_Name','Junk']\n",
    "df5.head(5)"
   ]
  },
  {
   "cell_type": "code",
   "execution_count": 178,
   "metadata": {
    "collapsed": false
   },
   "outputs": [],
   "source": [
    "# Get the movie ID of 'Aladdin'\n",
    "def get_movie_ID(m_name):\n",
    "    mid = df5.loc[(df5['Movie_Name'].str.contains(m_name)==True), ['Movie_ID']]\n",
    "    #print(mid[0,])\n",
    "    return mid;\n",
    "    "
   ]
  },
  {
   "cell_type": "code",
   "execution_count": 179,
   "metadata": {
    "collapsed": false,
    "scrolled": true
   },
   "outputs": [],
   "source": [
    "from math import*\n",
    "\n",
    "def square_rooted(x):\n",
    "    return round(sqrt(sum([a*a for a in x])),3)\n",
    "\n",
    "def cosine_similarity(x,y):\n",
    "    numerator = sum(a*b for a,b in zip(x,y))\n",
    "    denominator = square_rooted(x)*square_rooted(y)\n",
    "    return round(numerator/float(denominator),3)"
   ]
  },
  {
   "cell_type": "code",
   "execution_count": 183,
   "metadata": {
    "collapsed": false
   },
   "outputs": [],
   "source": [
    "def show_similar_movie(m_id):\n",
    "    arr_similarity = np.zeros(1683)\n",
    "    updated_movie_vec = trial1[0]\n",
    "    for i in movie_ids_sorted:\n",
    "        if(i != movie_id):\n",
    "            arr_similarity[i] = cosine_similarity(updated_movie_vec[m_id],updated_movie_vec[i])\n",
    "    top_10 = np.argsort(arr_similarity)[-10:]\n",
    "    print(\"Top cosine similarity = \", np.sort(arr_similarity)[-5:])\n",
    "    similar_movies = df5[df5['Movie_ID'].isin(top_10)]\n",
    "    print(similar_movies[['Movie_ID','Movie_Name']].to_string(index=False))\n",
    "    return;"
   ]
  },
  {
   "cell_type": "code",
   "execution_count": 184,
   "metadata": {
    "collapsed": false
   },
   "outputs": [
    {
     "name": "stdout",
     "output_type": "stream",
     "text": [
      "Top cosine similarity =  [ 0.243  0.244  0.264  0.281  0.308]\n",
      "Movie_ID                         Movie_Name\n",
      "      11               Seven (Se7en) (1995)\n",
      "      22                  Braveheart (1995)\n",
      "      50                   Star Wars (1977)\n",
      "      79                           Fugitive\n",
      "      98               Silence of the Lambs\n",
      "     172                Empire Strikes Back\n",
      "     174     Raiders of the Lost Ark (1981)\n",
      "     265               Hunt for Red October\n",
      "     318            Schindler's List (1993)\n",
      "     423  E.T. the Extra-Terrestrial (1982)\n"
     ]
    }
   ],
   "source": [
    "movie_given = \"Aladdin\"\n",
    "temp = get_movie_ID(movie_given)\n",
    "movie_id = temp['Movie_ID'].iloc[0]\n",
    "show_similar_movie(movie_id)"
   ]
  },
  {
   "cell_type": "markdown",
   "metadata": {},
   "source": [
    "### 1.4:  Recommend top 10 movies given movies Toy Story and Home Alone.\n",
    "\n",
    "Recommendation Strategy: Given two movies M1 and M2, we have taken the average of the two movie vectors to get a new vector and then found cosine-similarity of this new vector with all other vectors to get the top 10 similar movies for recommendation. "
   ]
  },
  {
   "cell_type": "code",
   "execution_count": 206,
   "metadata": {
    "collapsed": false
   },
   "outputs": [
    {
     "name": "stdout",
     "output_type": "stream",
     "text": [
      "1\n",
      "94\n",
      "(300,)\n",
      "Top cosine similarity =  [ 0.317  0.32   0.324  0.677  0.799]\n",
      "Movie_ID                       Movie_Name\n",
      "       1                 Toy Story (1995)\n",
      "       9          Dead Man Walking (1995)\n",
      "      22                Braveheart (1995)\n",
      "      94                Home Alone (1990)\n",
      "      98             Silence of the Lambs\n",
      "     127                        Godfather\n",
      "     174   Raiders of the Lost Ark (1981)\n",
      "     181        Return of the Jedi (1983)\n",
      "     222  Star Trek: First Contact (1996)\n",
      "     318          Schindler's List (1993)\n"
     ]
    }
   ],
   "source": [
    "movie_given = \"Toy Story\"\n",
    "temp = get_movie_ID(movie_given)\n",
    "movie_id1 = temp['Movie_ID'].iloc[0]\n",
    "print(movie_id1)\n",
    "\n",
    "movie_given = \"Home Alone\"\n",
    "temp = get_movie_ID(movie_given)\n",
    "movie_id2 = temp['Movie_ID'].iloc[0]\n",
    "print(movie_id2)\n",
    "\n",
    "updated_movie_vec2 = trial1[0]\n",
    "movie_vec = updated_movie_vec2[movie_id1] + updated_movie_vec2[movie_id2]\n",
    "print(movie_vec.shape)\n",
    "\n",
    "arr_similarity = np.zeros(1683)\n",
    "updated_movie_vec = trial1[0]\n",
    "for i in movie_ids_sorted:\n",
    "    arr_similarity[i] = cosine_similarity(movie_vec,updated_movie_vec[i])\n",
    "top_10 = np.argsort(arr_similarity)[-10:]\n",
    "print(\"Top cosine similarity = \", np.sort(arr_similarity)[-5:])\n",
    "similar_movies = df5[df5['Movie_ID'].isin(top_10)]\n",
    "print(similar_movies[['Movie_ID','Movie_Name']].to_string(index=False))    \n",
    "\n",
    "#show_similar_movie(movie_id)"
   ]
  },
  {
   "cell_type": "code",
   "execution_count": 173,
   "metadata": {
    "collapsed": false
   },
   "outputs": [
    {
     "data": {
      "text/html": [
       "<div>\n",
       "<table border=\"1\" class=\"dataframe\">\n",
       "  <thead>\n",
       "    <tr style=\"text-align: right;\">\n",
       "      <th></th>\n",
       "      <th>Movie_ID</th>\n",
       "      <th>Movie_Name</th>\n",
       "      <th>Junk</th>\n",
       "    </tr>\n",
       "  </thead>\n",
       "  <tbody>\n",
       "    <tr>\n",
       "      <th>93</th>\n",
       "      <td>94</td>\n",
       "      <td>Home Alone (1990)</td>\n",
       "      <td>NaN</td>\n",
       "    </tr>\n",
       "    <tr>\n",
       "      <th>893</th>\n",
       "      <td>894</td>\n",
       "      <td>Home Alone 3 (1997)</td>\n",
       "      <td>NaN</td>\n",
       "    </tr>\n",
       "  </tbody>\n",
       "</table>\n",
       "</div>"
      ],
      "text/plain": [
       "     Movie_ID           Movie_Name Junk\n",
       "93         94    Home Alone (1990)  NaN\n",
       "893       894  Home Alone 3 (1997)  NaN"
      ]
     },
     "execution_count": 173,
     "metadata": {},
     "output_type": "execute_result"
    }
   ],
   "source": [
    "df5.loc[df5['Movie_Name'].str.contains('Home Alone')]"
   ]
  },
  {
   "cell_type": "code",
   "execution_count": 174,
   "metadata": {
    "collapsed": false
   },
   "outputs": [
    {
     "data": {
      "text/html": [
       "<div>\n",
       "<table border=\"1\" class=\"dataframe\">\n",
       "  <thead>\n",
       "    <tr style=\"text-align: right;\">\n",
       "      <th></th>\n",
       "      <th>Movie_ID</th>\n",
       "      <th>Movie_Name</th>\n",
       "      <th>Junk</th>\n",
       "    </tr>\n",
       "  </thead>\n",
       "  <tbody>\n",
       "    <tr>\n",
       "      <th>0</th>\n",
       "      <td>1</td>\n",
       "      <td>Toy Story (1995)</td>\n",
       "      <td>NaN</td>\n",
       "    </tr>\n",
       "  </tbody>\n",
       "</table>\n",
       "</div>"
      ],
      "text/plain": [
       "   Movie_ID        Movie_Name Junk\n",
       "0         1  Toy Story (1995)  NaN"
      ]
     },
     "execution_count": 174,
     "metadata": {},
     "output_type": "execute_result"
    }
   ],
   "source": [
    "df5.loc[df5['Movie_Name'].str.contains('Toy Story')]"
   ]
  },
  {
   "cell_type": "code",
   "execution_count": null,
   "metadata": {
    "collapsed": true
   },
   "outputs": [],
   "source": []
  }
 ],
 "metadata": {
  "anaconda-cloud": {},
  "kernelspec": {
   "display_name": "Python [conda root]",
   "language": "python",
   "name": "conda-root-py"
  },
  "language_info": {
   "codemirror_mode": {
    "name": "ipython",
    "version": 3
   },
   "file_extension": ".py",
   "mimetype": "text/x-python",
   "name": "python",
   "nbconvert_exporter": "python",
   "pygments_lexer": "ipython3",
   "version": "3.5.2"
  }
 },
 "nbformat": 4,
 "nbformat_minor": 1
}
