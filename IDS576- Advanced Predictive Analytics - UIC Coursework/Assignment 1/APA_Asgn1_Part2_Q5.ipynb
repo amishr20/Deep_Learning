{
 "cells": [
  {
   "cell_type": "code",
   "execution_count": 224,
   "metadata": {
    "collapsed": true
   },
   "outputs": [],
   "source": [
    "#Q5 To generate Data\n",
    "import numpy as np\n",
    "import pickle\n",
    "N = 100 # number of points per class\n",
    "D = 2 # dimensionality\n",
    "K = 3 # number of classes\n",
    "h = 60 # size of hidden layer\n",
    "h1 = 60\n",
    "X = np.zeros((N*K,D))\n",
    "y = np.zeros(N*K, dtype='uint8')\n",
    "for j in range(K):          \n",
    "  ix = range(N*j,N*(j+1))\n",
    "  r = np.linspace(0.0,1,N) # radius\n",
    "  t = np.linspace(j*4,(j+1)*4,N) + np.random.randn(N)*0.2 # theta\n",
    "  X[ix] = np.c_[r*np.sin(t), r*np.cos(t)]\n",
    "  y[ix] = j\n",
    "\n",
    "pickle.dump(X,open('dataX.pickle','wb'))\n",
    "pickle.dump(y,open('dataY.pickle','wb'))\n",
    "X = pickle.load(open('dataX.pickle','rb'))\n",
    "y = pickle.load(open('dataY.pickle','rb'))"
   ]
  },
  {
   "cell_type": "code",
   "execution_count": 225,
   "metadata": {
    "collapsed": false
   },
   "outputs": [],
   "source": [
    "# 5.1. 4.2 Split data into 80:20\n",
    "import pandas as pd\n",
    "import random\n",
    "from sklearn import cross_validation\n",
    "import matplotlib.pyplot as plt\n",
    "def split_data(X,y,test_proportion):\n",
    "    X_train, X_Val, y_train, y_Val = train_test_split(X, y, test_size=test_proportion, random_state=0)\n",
    "    print(X_train.shape, y_train.shape)\n",
    "    return X_train, X_Val, y_train, y_Val; "
   ]
  },
  {
   "cell_type": "code",
   "execution_count": 226,
   "metadata": {
    "collapsed": true
   },
   "outputs": [],
   "source": [
    "def logistic_loss(W, b, X, y):\n",
    "    # evaluate class scores, [N x K]\n",
    "    scores = np.dot(X, W) + b \n",
    "  \n",
    "    # compute the class probability\n",
    "    exp_scores = np.exp(scores)\n",
    "    probs = exp_scores / np.sum(exp_scores, axis=1, keepdims=True) # [N x K]  # How do we deal if there is only one output \n",
    "    \n",
    "    num_examples = len(X)\n",
    "    #print(num_examples)\n",
    "    #print(probs[range(num_examples),y])\n",
    "    # compute the loss: average cross-entropy loss and regularization\n",
    "    corect_logprobs = -np.log(probs[range(num_examples),y])\n",
    "    #print(\"corect_logprobs shape : \",corect_logprobs.shape)\n",
    "    #print(y)\n",
    "    #print(\"corect_logprobs shape : \",corect_logprobs.shape)\n",
    "    data_loss = np.sum(corect_logprobs)/num_examples\n",
    "    #print(\"data_loss shape : \",data_loss.shape)\n",
    "    \n",
    "    return data_loss;\n",
    "    \n",
    "# 3.2. Write a function to compute the multiclass SVM loss given the parameters (W; b)\n",
    "# of a linear model (as numpy arrays) and an example (x; y).\n",
    "\n",
    "def multiClass_SVM_Loss(W, b, X, y):\n",
    "    # evaluate class scores, [N x K]\n",
    "    scores = np.dot(X, W) + b \n",
    "    correct_scores = scores[range(num_examples),y]\n",
    "    \n",
    "    loss = scores - correct_scores + np.ones[scores.shape]\n",
    "    loss[loss<0] = 0\n",
    "    loss[range(num_examples),y] = 0\n",
    "    svm_loss = np.sum(loss)\n",
    "    return svm_loss\n",
    "    \n",
    "    \n",
    "# 3.3 Add an `1 regularization and an `2 regularization to the loss function.\n",
    "# Can I add the regularization term separately ? 0.5*Lambda*W^2 and 0.5*Lambda*W\n",
    "\n",
    "def logistic_loss_lasso(W,b,X,y,reg):\n",
    "    data_loss = logistic_loss(W, b, X, y)\n",
    "    reg_loss = 0.5*reg*np.sum(W)\n",
    "    data_loss = data_loss + reg_loss\n",
    "    return data_loss\n",
    "\n",
    "def logistic_loss_ridge(W,b,X,y,reg):\n",
    "    data_loss = logistic_loss(W, b, X, y)\n",
    "    reg_loss = 0.5*reg*np.sum(W*W)\n",
    "    data_loss = data_loss + reg_loss\n",
    "    return data_loss"
   ]
  },
  {
   "cell_type": "code",
   "execution_count": 227,
   "metadata": {
    "collapsed": true
   },
   "outputs": [],
   "source": [
    "def my_own_batch_sgd_ffn(X_train,y_train,reg,learning_rate,num_iter):\n",
    "    hid_lyr_neurons = 32\n",
    "    D = X_train.shape[1]\n",
    "    k = int(max(y_train)+ 1)\n",
    "    W1 = 0.01*np.random.randn(D,hid_lyr_neurons)   \n",
    "    b1 = np.zeros((1,hid_lyr_neurons))\n",
    "    W2 = 0.01*np.random.randn(hid_lyr_neurons,k)   \n",
    "    b2 = np.zeros((1,k))\n",
    "    batch_size = 48\n",
    "    print(\"### Entering batch execution\")\n",
    "    W1, b1, W2, b2, loss = two_layer_ffnn(X_train,y_train,W1,b1,W2,b2,reg,learning_rate,num_iter)\n",
    "    print(\"### Exiting batch execution  |  Loss =\", loss)\n",
    "    return W1, b1, W2, b2, loss;"
   ]
  },
  {
   "cell_type": "code",
   "execution_count": 228,
   "metadata": {
    "collapsed": true
   },
   "outputs": [],
   "source": [
    "def two_layer_ffnn(X_train,y_train,W1,b1,W2,b2,reg,learning_rate,iterate):\n",
    " \n",
    "    #reg = 0.0001\n",
    "    #learning_rate = 0.1\n",
    "    for i in range(iterate):\n",
    "        hidden_layer = np.maximum(0,np.dot(X_train,W1)+ b1)\n",
    "        scores = np.dot(hidden_layer,W2)+ b2\n",
    "        \n",
    "        # compute the class probabilities\n",
    "        exp_scores = np.exp(scores)\n",
    "        probs = exp_scores / np.sum(exp_scores, axis=1, keepdims=True) # [N x K]\n",
    "        # compute the loss: average cross-entropy loss and regularization\n",
    "        loss = logistic_loss(W2,b2,hidden_layer,y_train) + 0.5*reg*np.sum(W1*W1) + 0.5*reg*np.sum(W2*W2)\n",
    "        #if i % 100 == 0:\n",
    "            #print(\"iteration: \", i, \" loss = \",loss)\n",
    "        num_examples = len(X_train)\n",
    "        dscores = probs\n",
    "        dscores[range(num_examples),y_train] -= 1\n",
    "        dscores /= num_examples\n",
    "        # backpropate the gradient to the parameters (W,b)\n",
    "        dW2 = np.dot(hidden_layer.T, dscores)         # is W equal to 'a' ref Week0 slides >>> dh/da * dg/dh\n",
    "        db2 = np.sum(dscores, axis=0, keepdims=True)  \n",
    "        dhidden = np.dot(dscores, W2.T)\n",
    "        dhidden[hidden_layer <= 0] = 0\n",
    "        dW1 = np.dot(X_train.T, dhidden)\n",
    "        db1 = np.sum(dhidden, axis=0, keepdims=True)\n",
    "        dW2 += reg * W2\n",
    "        dW1 += reg * W1\n",
    "        # perform a parameter update\n",
    "        W1 += -learning_rate * dW1\n",
    "        b1 += -learning_rate * db1\n",
    "        W2 += -learning_rate * dW2\n",
    "        b2 += -learning_rate * db2\n",
    "    return W1, b1, W2, b2, loss;"
   ]
  },
  {
   "cell_type": "code",
   "execution_count": 229,
   "metadata": {
    "collapsed": true
   },
   "outputs": [],
   "source": [
    "def get_train_accuracy_ffn(X_train,y_train,W1,b1,W2,b2):\n",
    "    y_hat_train = np.argmax(np.dot(np.maximum(0,np.dot(X_train,W1)+ b1),W2)+ b2,axis = 1)\n",
    "    training_precision = np.mean(y_hat_train == y_train)\n",
    "    print(\"Accuracy Train : \",training_precision)\n",
    "    return training_precision;\n",
    "\n",
    "def get_test_accuracy_ffn(X_test,y_test,W1,b1,W2,b2):\n",
    "    y_hat_test = np.argmax(np.dot(np.maximum(0,np.dot(X_test,W1)+ b1),W2)+ b2, axis = 1)\n",
    "    test_precision = np.mean(y_hat_test == y_test)\n",
    "    print(\"Accuracy Test  : \",test_precision)\n",
    "    return test_precision;"
   ]
  },
  {
   "cell_type": "code",
   "execution_count": 230,
   "metadata": {
    "collapsed": false
   },
   "outputs": [
    {
     "name": "stdout",
     "output_type": "stream",
     "text": [
      "(240, 2) (240,)\n",
      "### Entering batch execution\n",
      "### Exiting batch execution  |  Loss = 0.123745435572\n",
      "Accuracy Train :  0.954166666667\n",
      "Accuracy Test  :  0.966666666667\n"
     ]
    },
    {
     "data": {
      "text/plain": [
       "0.96666666666666667"
      ]
     },
     "execution_count": 230,
     "metadata": {},
     "output_type": "execute_result"
    }
   ],
   "source": [
    "test_proportion = 0.2\n",
    "X_train, X_Val, y_train, y_Val = split_data(X,y,test_proportion)\n",
    "\n",
    "W1, b1, W2, b2, loss = my_own_batch_sgd_ffn(X_train,y_train,0.0005,0.1,10000)\n",
    "\n",
    "get_train_accuracy_ffn(X_train,y_train,W1, b1, W2, b2)\n",
    "get_test_accuracy_ffn(X_Val,y_Val, W1, b1, W2, b2)"
   ]
  },
  {
   "cell_type": "code",
   "execution_count": 124,
   "metadata": {
    "collapsed": false
   },
   "outputs": [
    {
     "name": "stdout",
     "output_type": "stream",
     "text": [
      "### Entering batch execution\n",
      "### Exiting batch execution  |  Loss = 0.246543370029\n",
      "#### CV  0.975\n",
      "### Entering batch execution\n",
      "### Exiting batch execution  |  Loss = 0.205321883265\n",
      "#### CV  0.85\n",
      "### Entering batch execution\n",
      "### Exiting batch execution  |  Loss = 0.237723162023\n",
      "#### CV  0.925\n"
     ]
    }
   ],
   "source": [
    "# 5.1. 4.4 Cross validation justification \n",
    "\n",
    "from sklearn import cross_validation\n",
    "cv = cross_validation.KFold(len(X_train), n_folds=3, shuffle=True) # 43200 & 4800 each\n",
    "for train_indices, test_indices in cv:\n",
    "    W1, b1, W2, b2, loss = my_own_batch_sgd_ffn(X_train[train_indices],y_train[train_indices],0.0005,0.1,10000)\n",
    "    y_hat_test = np.argmax(np.dot(np.maximum(0,np.dot(X_train[test_indices],W1)+ b1),W2)+ b2, axis = 1)\n",
    "    test_precision = np.mean(y_hat_test == y_train[test_indices])\n",
    "    print(\"#### CV \", test_precision)"
   ]
  },
  {
   "cell_type": "code",
   "execution_count": 137,
   "metadata": {
    "collapsed": false
   },
   "outputs": [
    {
     "name": "stdout",
     "output_type": "stream",
     "text": [
      "(240, 2) (240,)\n",
      "### Entering batch execution\n",
      "### Exiting batch execution  |  Loss = 1.09851072473\n",
      "Accuracy Train :  0.5625\n",
      "Accuracy Test  :  0.483333333333\n",
      "### Entering batch execution\n",
      "### Exiting batch execution  |  Loss = 0.719245835952\n",
      "Accuracy Train :  0.575\n",
      "Accuracy Test  :  0.5\n",
      "### Entering batch execution\n",
      "### Exiting batch execution  |  Loss = 0.677777665662\n",
      "Accuracy Train :  0.583333333333\n",
      "Accuracy Test  :  0.533333333333\n",
      "### Entering batch execution\n",
      "### Exiting batch execution  |  Loss = 0.666152182499\n",
      "Accuracy Train :  0.6\n",
      "Accuracy Test  :  0.533333333333\n",
      "### Entering batch execution\n",
      "### Exiting batch execution  |  Loss = 0.62044081309\n",
      "Accuracy Train :  0.633333333333\n",
      "Accuracy Test  :  0.566666666667\n",
      "### Entering batch execution\n",
      "### Exiting batch execution  |  Loss = 0.590882274159\n",
      "Accuracy Train :  0.666666666667\n",
      "Accuracy Test  :  0.583333333333\n",
      "### Entering batch execution\n",
      "### Exiting batch execution  |  Loss = 0.507483451039\n",
      "Accuracy Train :  0.704166666667\n",
      "Accuracy Test  :  0.7\n",
      "### Entering batch execution\n",
      "### Exiting batch execution  |  Loss = 0.448286883926\n",
      "Accuracy Train :  0.7625\n",
      "Accuracy Test  :  0.716666666667\n",
      "### Entering batch execution\n",
      "### Exiting batch execution  |  Loss = 0.380372684749\n",
      "Accuracy Train :  0.825\n",
      "Accuracy Test  :  0.766666666667\n",
      "### Entering batch execution\n",
      "### Exiting batch execution  |  Loss = 0.368312033347\n",
      "Accuracy Train :  0.833333333333\n",
      "Accuracy Test  :  0.766666666667\n",
      "### Entering batch execution\n",
      "### Exiting batch execution  |  Loss = 0.329791906561\n",
      "Accuracy Train :  0.841666666667\n",
      "Accuracy Test  :  0.816666666667\n",
      "### Entering batch execution\n",
      "### Exiting batch execution  |  Loss = 0.308981141131\n",
      "Accuracy Train :  0.870833333333\n",
      "Accuracy Test  :  0.866666666667\n",
      "### Entering batch execution\n",
      "### Exiting batch execution  |  Loss = 0.322026497714\n",
      "Accuracy Train :  0.85\n",
      "Accuracy Test  :  0.816666666667\n",
      "### Entering batch execution\n",
      "### Exiting batch execution  |  Loss = 0.312953502399\n",
      "Accuracy Train :  0.85\n",
      "Accuracy Test  :  0.85\n",
      "### Entering batch execution\n",
      "### Exiting batch execution  |  Loss = 0.27398821565\n",
      "Accuracy Train :  0.908333333333\n",
      "Accuracy Test  :  0.916666666667\n",
      "### Entering batch execution\n",
      "### Exiting batch execution  |  Loss = 0.285333137616\n",
      "Accuracy Train :  0.8875\n",
      "Accuracy Test  :  0.9\n",
      "### Entering batch execution\n",
      "### Exiting batch execution  |  Loss = 0.23697380113\n",
      "Accuracy Train :  0.95\n",
      "Accuracy Test  :  0.933333333333\n",
      "### Entering batch execution\n",
      "### Exiting batch execution  |  Loss = 0.231422721133\n",
      "Accuracy Train :  0.941666666667\n",
      "Accuracy Test  :  0.933333333333\n",
      "### Entering batch execution\n",
      "### Exiting batch execution  |  Loss = 0.246136508525\n",
      "Accuracy Train :  0.95\n",
      "Accuracy Test  :  0.95\n",
      "### Entering batch execution\n",
      "### Exiting batch execution  |  Loss = 0.228764571738\n",
      "Accuracy Train :  0.954166666667\n",
      "Accuracy Test  :  0.95\n"
     ]
    }
   ],
   "source": [
    "#5.1 4.5\n",
    "# What is the sensitivity of the model's performance to different learning rates\n",
    "# the number of gradient descent iterations. Describe via suitable plots.\n",
    "\n",
    "test_proportion = 0.2\n",
    "X_train, X_test, y_train, y_test = split_data(X,y,test_proportion)\n",
    "j = 0\n",
    "train_acc = []\n",
    "test_acc = []\n",
    "for i in range(10, 10000, 500):\n",
    "    W1, b1, W2, b2, loss = my_own_batch_sgd_ffn(X_train,y_train,0.0005,0.1,i)\n",
    "    \n",
    "    # Performance check\n",
    "    training_precision= get_train_accuracy_ffn(X_train,y_train,W1,b1,W2,b2)\n",
    "    test_precision= get_test_accuracy_ffn(X_test,y_test,W1,b1,W2,b2)\n",
    "    \n",
    "    train_acc.append(training_precision)\n",
    "    test_acc.append(test_precision)\n"
   ]
  },
  {
   "cell_type": "code",
   "execution_count": 138,
   "metadata": {
    "collapsed": false
   },
   "outputs": [
    {
     "data": {
      "image/png": "[encoded data removed]",
      "text/plain": [
       "<matplotlib.figure.Figure at 0x1923490d710>"
      ]
     },
     "metadata": {},
     "output_type": "display_data"
    }
   ],
   "source": [
    "#5.1 4.5 Part 2\n",
    "plt.plot(np.arange(0, len(train_acc)),train_acc,'r',label = \"Train accuracy\") \n",
    "plt.plot(np.arange(0, len(train_acc)),test_acc,'g',label = \"Test accuracy\")\n",
    "plt.xlabel(\"# Num of iterations in five hundreds\")\n",
    "plt.ylabel(\"Accuracy\")\n",
    "plt.title(\"Sensitivity of the model\")\n",
    "plt.legend(bbox_to_anchor=(1.05, 1), loc=2, borderaxespad=0.)\n",
    "#plt.text(100, max(train_acc[2])-max(train_acc[2]/10), 'Test accuracy' ,color = 'green')\n",
    "#plt.text(100, max(train_acc[2])-max(train_acc[2]/8), 'Train accuracy' ,color = 'red')\n",
    "plt.show()"
   ]
  },
  {
   "cell_type": "code",
   "execution_count": 139,
   "metadata": {
    "collapsed": false
   },
   "outputs": [
    {
     "name": "stdout",
     "output_type": "stream",
     "text": [
      "### Entering batch execution\n",
      "### Exiting batch execution  |  Loss = 1.09843460139\n",
      "Accuracy Train :  0.470833333333\n",
      "Accuracy Test  :  0.416666666667\n",
      "### Entering batch execution\n",
      "### Exiting batch execution  |  Loss = 0.228804143783\n",
      "Accuracy Train :  0.958333333333\n",
      "Accuracy Test  :  0.95\n",
      "### Entering batch execution\n",
      "### Exiting batch execution  |  Loss = 0.223936469318\n",
      "Accuracy Train :  0.9625\n",
      "Accuracy Test  :  0.95\n",
      "### Entering batch execution\n",
      "### Exiting batch execution  |  Loss = 0.247371894666\n",
      "Accuracy Train :  0.945833333333\n",
      "Accuracy Test  :  0.933333333333\n"
     ]
    }
   ],
   "source": [
    "#5.1.4.5 Part 3\n",
    "j = 0\n",
    "train_acc = []\n",
    "test_acc = []\n",
    "for i in range(1, 4000, 1000):\n",
    "    W1, b1, W2, b2, loss = my_own_batch_sgd_ffn(X_train,y_train,0.0005,i/10000,10000)\n",
    "    # Performance check\n",
    "    # Performance check\n",
    "    training_precision= get_train_accuracy_ffn(X_train,y_train,W1,b1,W2,b2)\n",
    "    test_precision= get_test_accuracy_ffn(X_test,y_test,W1,b1,W2,b2)\n",
    "    \n",
    "    train_acc.append(training_precision)\n",
    "    test_acc.append(test_precision)"
   ]
  },
  {
   "cell_type": "code",
   "execution_count": 140,
   "metadata": {
    "collapsed": false
   },
   "outputs": [
    {
     "data": {
      "image/png": "[encoded data removed]",
      "text/plain": [
       "<matplotlib.figure.Figure at 0x19234c8bc18>"
      ]
     },
     "metadata": {},
     "output_type": "display_data"
    }
   ],
   "source": [
    "plt.plot(np.arange(0, len(train_acc)),train_acc,'r',label = \"Train accuracy\") \n",
    "plt.plot(np.arange(0, len(train_acc)),test_acc,'g',label = \"Test accuracy\")\n",
    "plt.xlabel(\"Learning rate in 10^-1\")\n",
    "plt.ylabel(\"Accuracy\")\n",
    "plt.title(\"Sensitivity of the model\")\n",
    "plt.legend(bbox_to_anchor=(1.05, 1), loc=2, borderaxespad=0.)\n",
    "#plt.text(100, max(train_acc[2])-max(train_acc[2]/10), 'Test accuracy' ,color = 'green')\n",
    "#plt.text(100, max(train_acc[2])-max(train_acc[2]/8), 'Train accuracy' ,color = 'red')\n",
    "plt.show()"
   ]
  },
  {
   "cell_type": "code",
   "execution_count": 144,
   "metadata": {
    "collapsed": false
   },
   "outputs": [
    {
     "name": "stdout",
     "output_type": "stream",
     "text": [
      "### Entering batch execution\n",
      "### Exiting batch execution  |  Loss = 0.306966763802\n",
      "Accuracy Train :  0.95\n",
      "Accuracy Test  :  0.95\n",
      "### Entering batch execution\n",
      "### Exiting batch execution  |  Loss = 0.411681195336\n",
      "Accuracy Train :  0.870833333333\n",
      "Accuracy Test  :  0.9\n",
      "### Entering batch execution\n",
      "### Exiting batch execution  |  Loss = 0.463422655661\n",
      "Accuracy Train :  0.854166666667\n",
      "Accuracy Test  :  0.833333333333\n",
      "### Entering batch execution\n",
      "### Exiting batch execution  |  Loss = 0.553607277778\n",
      "Accuracy Train :  0.8375\n",
      "Accuracy Test  :  0.8\n"
     ]
    }
   ],
   "source": [
    "# 5.1.4.6 What is the sensitivity of the model's performance to different regularization pa-\n",
    "#         rameter values. Find the best regularization parameter using an exhaustive search\n",
    "#         procedure. Describe your choice via suitable plots. What is the performance differ-\n",
    "#         ence between using regularization and no regularization?\n",
    "\n",
    "j = 0\n",
    "train_acc = []\n",
    "test_acc = []\n",
    "for i in range(1000, 5000, 1000):\n",
    "    W1, b1, W2, b2, loss = my_own_batch_sgd_ffn(X_train,y_train,i/1000000,0.1,10000)\n",
    "    # Performance check\n",
    "    # Performance check\n",
    "    # Performance check\n",
    "    training_precision= get_train_accuracy_ffn(X_train,y_train,W1,b1,W2,b2)\n",
    "    test_precision= get_test_accuracy_ffn(X_test,y_test,W1,b1,W2,b2)\n",
    "    \n",
    "    train_acc.append(training_precision)\n",
    "    test_acc.append(test_precision)\n",
    "    "
   ]
  },
  {
   "cell_type": "code",
   "execution_count": 223,
   "metadata": {
    "collapsed": false
   },
   "outputs": [
    {
     "data": {
      "image/png": "[encoded data removed]",
      "text/plain": [
       "<matplotlib.figure.Figure at 0x19234fcc208>"
      ]
     },
     "metadata": {},
     "output_type": "display_data"
    }
   ],
   "source": [
    "plt.plot(np.arange(0, len(train_acc)),train_acc,'r',label = \"Train accuracy\") \n",
    "plt.plot(np.arange(0, len(train_acc)),test_acc,'g',label = \"Test accuracy\")\n",
    "plt.xlabel(\"Regularization in 10^-2\")\n",
    "plt.ylabel(\"Accuracy\")\n",
    "plt.title(\"Sensitivity of the model\")\n",
    "plt.legend(bbox_to_anchor=(1.05, 1), loc=2, borderaxespad=0.)\n",
    "#plt.text(100, max(train_acc[2])-max(train_acc[2]/10), 'Test accuracy' ,color = 'green')\n",
    "#plt.text(100, max(train_acc[2])-max(train_acc[2]/8), 'Train accuracy' ,color = 'red')\n",
    "plt.show()"
   ]
  },
  {
   "cell_type": "code",
   "execution_count": 147,
   "metadata": {
    "collapsed": false
   },
   "outputs": [
    {
     "name": "stdout",
     "output_type": "stream",
     "text": [
      "(150, 2) (150,)\n",
      "### Entering batch execution\n",
      "### Exiting batch execution  |  Loss = 0.254456458073\n",
      "Accuracy Train :  0.933333333333\n",
      "Accuracy Test  :  0.933333333333\n"
     ]
    },
    {
     "data": {
      "text/plain": [
       "0.93333333333333335"
      ]
     },
     "execution_count": 147,
     "metadata": {},
     "output_type": "execute_result"
    }
   ],
   "source": [
    "\n",
    "# 5.1.4.7 What is the sensitivity of the model's performance with respect to a different test\n",
    "#         train split (50%:50%).\n",
    "\n",
    "\n",
    "test_proportion = 0.5\n",
    "X_train, X_Val, y_train, y_Val = split_data(X,y,test_proportion)\n",
    "\n",
    "W1, b1, W2, b2, loss = my_own_batch_sgd_ffn(X_train,y_train,0.0005,0.1,10000)\n",
    "\n",
    "get_train_accuracy_ffn(X_train,y_train,W1, b1, W2, b2)\n",
    "get_test_accuracy_ffn(X_Val,y_Val, W1, b1, W2, b2)\n"
   ]
  },
  {
   "cell_type": "code",
   "execution_count": 231,
   "metadata": {
    "collapsed": true
   },
   "outputs": [],
   "source": [
    "#5.2 RELU\n",
    "# 6.1.5.2\n",
    "def two_layer_ffnn_leaky_relu(X_train,y_train,W1,b1,W2,b2,reg,learning_rate,iterate):\n",
    "\n",
    "    #reg = 0.0001\n",
    "    #learning_rate = 0.1\n",
    "    for i in range(iterate):\n",
    "                \n",
    "        hidden_layer = np.dot(X_train,W1)+b1\n",
    "        hidden_layer[hidden_layer<0] = 0.01*hidden_layer[np.where(hidden_layer<0)]\n",
    "        \n",
    "        scores = np.dot(hidden_layer,W2)+ b2\n",
    "        \n",
    "        # compute the class probabilities\n",
    "        exp_scores = np.exp(scores)\n",
    "        probs = exp_scores / np.sum(exp_scores, axis=1, keepdims=True) # [N x K]\n",
    "        # compute the loss: average cross-entropy loss and regularization\n",
    "        loss = logistic_loss(W2,b2,hidden_layer,y_train) + 0.5*reg*np.sum(W1*W1) + 0.5*reg*np.sum(W2*W2)\n",
    "        #if i % 1000 == 0:\n",
    "         #   print(\"iteration: \", i, \" loss = \",loss)\n",
    "        num_examples = len(X_train)\n",
    "        dscores = probs\n",
    "        dscores[range(num_examples),y_train] -= 1\n",
    "        dscores /= num_examples\n",
    "        # backpropate the gradient to the parameters (W,b)\n",
    "        dW2 = np.dot(hidden_layer.T, dscores)         # is W equal to 'a' ref Week0 slides >>> dh/da * dg/dh\n",
    "        db2 = np.sum(dscores, axis=0, keepdims=True)  \n",
    "        dhidden = np.dot(dscores, W2.T)\n",
    "        dhidden[hidden_layer < 0] = 0.01*dhidden[np.where(hidden_layer<0)]  # Doubt ???\n",
    "        dW1 = np.dot(X_train.T, dhidden)\n",
    "        db1 = np.sum(dhidden, axis=0, keepdims=True)\n",
    "        dW2 += reg * W2\n",
    "        dW1 += reg * W1\n",
    "        # perform a parameter update\n",
    "        W1 += -learning_rate * dW1\n",
    "        b1 += -learning_rate * db1\n",
    "        W2 += -learning_rate * dW2\n",
    "        b2 += -learning_rate * db2\n",
    "    return W1, b1, W2, b2, loss;"
   ]
  },
  {
   "cell_type": "code",
   "execution_count": 232,
   "metadata": {
    "collapsed": false
   },
   "outputs": [],
   "source": [
    "#5.2\n",
    "def my_own_batch_sgd_ffn_leaky(X_train,y_train,reg,learning_rate,num_iter):\n",
    "    hid_lyr_neurons = 32\n",
    "    D = X_train.shape[1]\n",
    "    k = int(max(y_train)+ 1)\n",
    "    W1 = 0.01*np.random.randn(D,hid_lyr_neurons)   \n",
    "    b1 = np.zeros((1,hid_lyr_neurons))\n",
    "    W2 = 0.01*np.random.randn(hid_lyr_neurons,k)   \n",
    "    b2 = np.zeros((1,k))\n",
    "    W1, b1, W2, b2, loss = two_layer_ffnn_leaky_relu(X_train,y_train,W1,b1,W2,b2,reg,learning_rate,num_iter)\n",
    "    print(\"### Exiting batch execution  |  Loss =\", loss)\n",
    "    return W1, b1, W2, b2, loss;"
   ]
  },
  {
   "cell_type": "code",
   "execution_count": 233,
   "metadata": {
    "collapsed": true
   },
   "outputs": [],
   "source": [
    "def get_test_accuracy_ffn_leaky(X_test,y_test,W1,b1,W2,b2):\n",
    "    hidden_layer = np.dot(X_test,W1)+b1\n",
    "    hidden_layer[hidden_layer<0] = 0.01*hidden_layer[np.where(hidden_layer<0)]\n",
    "    y_hat_test = np.argmax((np.dot(hidden_layer, W2) + b2),axis = 1)\n",
    "    test_precision = np.mean(y_hat_test == y_test)\n",
    "    print(\"Accuracy Test : \",test_precision)\n",
    "    return test_precision;\n",
    "    \n",
    "def get_train_accuracy_ffn_leaky(X_train,y_train,W1,b1,W2,b2):\n",
    "    hidden_layer = np.dot(X_train,W1)+b1\n",
    "    hidden_layer[hidden_layer<0] = 0.01*hidden_layer[np.where(hidden_layer<0)]\n",
    "    y_hat_train = np.argmax((np.dot(hidden_layer, W2) + b2),axis = 1)\n",
    "    training_precision = np.mean(y_hat_train == y_train)\n",
    "    print(\"Accuracy Train : \",training_precision)\n",
    "    return training_precision;"
   ]
  },
  {
   "cell_type": "code",
   "execution_count": 234,
   "metadata": {
    "collapsed": false
   },
   "outputs": [
    {
     "name": "stdout",
     "output_type": "stream",
     "text": [
      "(240, 2) (240,)\n",
      "### Exiting batch execution  |  Loss = 0.121366866746\n",
      "Accuracy Train :  0.954166666667\n",
      "Accuracy Test :  0.966666666667\n"
     ]
    },
    {
     "data": {
      "text/plain": [
       "0.96666666666666667"
      ]
     },
     "execution_count": 234,
     "metadata": {},
     "output_type": "execute_result"
    }
   ],
   "source": [
    "test_proportion = 0.2\n",
    "X_train, X_Val, y_train, y_Val = split_data(X,y,test_proportion)\n",
    "\n",
    "W1, b1, W2, b2, loss = my_own_batch_sgd_ffn_leaky(X_train,y_train,0.0005,0.1,10000)\n",
    "\n",
    "get_train_accuracy_ffn_leaky(X_train,y_train,W1, b1, W2, b2)\n",
    "get_test_accuracy_ffn_leaky(X_Val,y_Val, W1, b1, W2, b2)"
   ]
  },
  {
   "cell_type": "code",
   "execution_count": 175,
   "metadata": {
    "collapsed": false
   },
   "outputs": [
    {
     "name": "stdout",
     "output_type": "stream",
     "text": [
      "### Exiting batch execution  |  Loss = 0.203753503298\n",
      "0.8875\n",
      "### Exiting batch execution  |  Loss = 0.234487959329\n",
      "0.925\n",
      "### Exiting batch execution  |  Loss = 0.253329030632\n",
      "0.925\n"
     ]
    }
   ],
   "source": [
    "#5.2.4.4\n",
    "from sklearn import cross_validation\n",
    "cv = cross_validation.KFold(len(X_train), n_folds=3, shuffle=True) # 43200 & 4800 each\n",
    "for train_indices, test_indices in cv:  \n",
    "    W1, b1, W2, b2, loss = my_own_batch_sgd_ffn_leaky(X_train[train_indices],y_train[train_indices],0.0005,0.1,10000)\n",
    "    hidden_layer = np.dot(X_train[test_indices],W1)+b1\n",
    "    hidden_layer[hidden_layer<0] = 0.01*hidden_layer[np.where(hidden_layer<0)]\n",
    "    y_hat_test = np.argmax((np.dot(hidden_layer,W2)+ b2), axis = 1)\n",
    "    test_precision = np.mean(y_hat_test == y_train[test_indices])\n",
    "    print(test_precision)"
   ]
  },
  {
   "cell_type": "code",
   "execution_count": 171,
   "metadata": {
    "collapsed": false
   },
   "outputs": [
    {
     "name": "stdout",
     "output_type": "stream",
     "text": [
      "(240, 2) (240,)\n",
      "### Exiting batch execution  |  Loss = 1.09854568496\n",
      "Accuracy Train :  0.345833333333\n",
      "Accuracy Test :  0.4\n",
      "### Exiting batch execution  |  Loss = 0.714531019418\n",
      "Accuracy Train :  0.570833333333\n",
      "Accuracy Test :  0.5\n",
      "### Exiting batch execution  |  Loss = 0.674543889439\n",
      "Accuracy Train :  0.591666666667\n",
      "Accuracy Test :  0.533333333333\n",
      "### Exiting batch execution  |  Loss = 0.643654330674\n",
      "Accuracy Train :  0.6125\n",
      "Accuracy Test :  0.566666666667\n",
      "### Exiting batch execution  |  Loss = 0.623639495206\n",
      "Accuracy Train :  0.6375\n",
      "Accuracy Test :  0.566666666667\n",
      "### Exiting batch execution  |  Loss = 0.579617380821\n",
      "Accuracy Train :  0.670833333333\n",
      "Accuracy Test :  0.616666666667\n",
      "### Exiting batch execution  |  Loss = 0.480010113583\n",
      "Accuracy Train :  0.729166666667\n",
      "Accuracy Test :  0.7\n",
      "### Exiting batch execution  |  Loss = 0.428425957634\n",
      "Accuracy Train :  0.783333333333\n",
      "Accuracy Test :  0.733333333333\n",
      "### Exiting batch execution  |  Loss = 0.356408520904\n",
      "Accuracy Train :  0.841666666667\n",
      "Accuracy Test :  0.766666666667\n",
      "### Exiting batch execution  |  Loss = 0.371919706909\n",
      "Accuracy Train :  0.829166666667\n",
      "Accuracy Test :  0.766666666667\n",
      "### Exiting batch execution  |  Loss = 0.328586211465\n",
      "Accuracy Train :  0.845833333333\n",
      "Accuracy Test :  0.8\n",
      "### Exiting batch execution  |  Loss = 0.295335621085\n",
      "Accuracy Train :  0.858333333333\n",
      "Accuracy Test :  0.85\n",
      "### Exiting batch execution  |  Loss = 0.282894125813\n",
      "Accuracy Train :  0.870833333333\n",
      "Accuracy Test :  0.883333333333\n",
      "### Exiting batch execution  |  Loss = 0.312456691812\n",
      "Accuracy Train :  0.854166666667\n",
      "Accuracy Test :  0.85\n",
      "### Exiting batch execution  |  Loss = 0.302087996447\n",
      "Accuracy Train :  0.858333333333\n",
      "Accuracy Test :  0.833333333333\n",
      "### Exiting batch execution  |  Loss = 0.23961050007\n",
      "Accuracy Train :  0.933333333333\n",
      "Accuracy Test :  0.933333333333\n",
      "### Exiting batch execution  |  Loss = 0.246652676995\n",
      "Accuracy Train :  0.941666666667\n",
      "Accuracy Test :  0.95\n",
      "### Exiting batch execution  |  Loss = 0.270642889983\n",
      "Accuracy Train :  0.916666666667\n",
      "Accuracy Test :  0.9\n",
      "### Exiting batch execution  |  Loss = 0.277632521956\n",
      "Accuracy Train :  0.891666666667\n",
      "Accuracy Test :  0.9\n",
      "### Exiting batch execution  |  Loss = 0.264175807476\n",
      "Accuracy Train :  0.925\n",
      "Accuracy Test :  0.9\n"
     ]
    }
   ],
   "source": [
    "#5.2 4.5\n",
    "# What is the sensitivity of the model's performance to different learning rates\n",
    "# the number of gradient descent iterations. Describe via suitable plots.\n",
    "\n",
    "test_proportion = 0.2\n",
    "X_train, X_test, y_train, y_test = split_data(X,y,test_proportion)\n",
    "j = 0\n",
    "train_acc = []\n",
    "test_acc = []\n",
    "for i in range(10, 10000, 500):\n",
    "    W1, b1, W2, b2, loss = my_own_batch_sgd_ffn_leaky(X_train,y_train,0.0005,0.1,i)\n",
    "    \n",
    "    # Performance check\n",
    "    training_precision= get_train_accuracy_ffn_leaky(X_train,y_train,W1,b1,W2,b2)\n",
    "    test_precision= get_test_accuracy_ffn_leaky(X_test,y_test,W1,b1,W2,b2)\n",
    "    \n",
    "    train_acc.append(training_precision)\n",
    "    test_acc.append(test_precision)\n"
   ]
  },
  {
   "cell_type": "code",
   "execution_count": 176,
   "metadata": {
    "collapsed": false
   },
   "outputs": [
    {
     "data": {
      "image/png": "[encoded data removed]",
      "text/plain": [
       "<matplotlib.figure.Figure at 0x19234faf828>"
      ]
     },
     "metadata": {},
     "output_type": "display_data"
    }
   ],
   "source": [
    "plt.plot(np.arange(0, len(train_acc)),train_acc,'r',label = \"Train accuracy\") \n",
    "plt.plot(np.arange(0, len(train_acc)),test_acc,'g',label = \"Test accuracy\")\n",
    "plt.xlabel(\"# Num of iterations in hundreds\")\n",
    "plt.ylabel(\"Accuracy\")\n",
    "plt.title(\"Sensitivity of the model\")\n",
    "plt.legend(bbox_to_anchor=(1.05, 1), loc=2, borderaxespad=0.)\n",
    "#plt.text(100, max(train_acc[2])-max(train_acc[2]/10), 'Test accuracy' ,color = 'green')\n",
    "#plt.text(100, max(train_acc[2])-max(train_acc[2]/8), 'Train accuracy' ,color = 'red')\n",
    "plt.show()"
   ]
  },
  {
   "cell_type": "code",
   "execution_count": 180,
   "metadata": {
    "collapsed": false
   },
   "outputs": [
    {
     "name": "stdout",
     "output_type": "stream",
     "text": [
      "### Exiting batch execution  |  Loss = 1.09861657676\n",
      "Accuracy Train :  0.429166666667\n",
      "Accuracy Test :  0.4\n",
      "### Exiting batch execution  |  Loss = 0.233424479267\n",
      "Accuracy Train :  0.958333333333\n",
      "Accuracy Test :  0.95\n",
      "### Exiting batch execution  |  Loss = 0.203458719626\n",
      "Accuracy Train :  0.970833333333\n",
      "Accuracy Test :  0.983333333333\n",
      "### Exiting batch execution  |  Loss = 0.250674137343\n",
      "Accuracy Train :  0.945833333333\n",
      "Accuracy Test :  0.933333333333\n"
     ]
    }
   ],
   "source": [
    "#5.2.4.5 Gradient Descent\n",
    "j = 0\n",
    "train_acc = []\n",
    "test_acc = []\n",
    "for i in range(1, 4000, 1000):\n",
    "    W1, b1, W2, b2, loss = my_own_batch_sgd_ffn_leaky(X_train,y_train,0.0005,i/10000,10000)\n",
    "    # Performance check\n",
    "    # Performance check\n",
    "    training_precision= get_train_accuracy_ffn_leaky(X_train,y_train,W1,b1,W2,b2)\n",
    "    test_precision= get_test_accuracy_ffn_leaky(X_test,y_test,W1,b1,W2,b2)\n",
    "    \n",
    "    train_acc.append(training_precision)\n",
    "    test_acc.append(test_precision)"
   ]
  },
  {
   "cell_type": "code",
   "execution_count": 182,
   "metadata": {
    "collapsed": false
   },
   "outputs": [
    {
     "data": {
      "image/png": "[encoded data removed]",
      "text/plain": [
       "<matplotlib.figure.Figure at 0x192346b8208>"
      ]
     },
     "metadata": {},
     "output_type": "display_data"
    }
   ],
   "source": [
    "plt.plot(np.arange(0, len(train_acc)),train_acc,'r',label = \"Train accuracy\") \n",
    "plt.plot(np.arange(0, len(train_acc)),test_acc,'g',label = \"Test accuracy\")\n",
    "plt.xlabel(\"Learning rate in 10^-1\")\n",
    "plt.ylabel(\"Accuracy\")\n",
    "plt.title(\"Sensitivity of the model\")\n",
    "plt.legend(bbox_to_anchor=(1.05, 1), loc=2, borderaxespad=0.)\n",
    "#plt.text(100, max(train_acc[2])-max(train_acc[2]/10), 'Test accuracy' ,color = 'green')\n",
    "#plt.text(100, max(train_acc[2])-max(train_acc[2]/8), 'Train accuracy' ,color = 'red')\n",
    "plt.show()"
   ]
  },
  {
   "cell_type": "code",
   "execution_count": 183,
   "metadata": {
    "collapsed": false
   },
   "outputs": [
    {
     "name": "stdout",
     "output_type": "stream",
     "text": [
      "### Exiting batch execution  |  Loss = 0.310174277317\n",
      "Accuracy Train :  0.9375\n",
      "Accuracy Test :  0.933333333333\n",
      "### Exiting batch execution  |  Loss = 0.424524305284\n",
      "Accuracy Train :  0.8875\n",
      "Accuracy Test :  0.883333333333\n",
      "### Exiting batch execution  |  Loss = 0.480686111568\n",
      "Accuracy Train :  0.854166666667\n",
      "Accuracy Test :  0.8\n",
      "### Exiting batch execution  |  Loss = 0.520431251627\n",
      "Accuracy Train :  0.833333333333\n",
      "Accuracy Test :  0.816666666667\n"
     ]
    }
   ],
   "source": [
    "# 5.2.4.6 What is the sensitivity of the model's performance to different regularization pa-\n",
    "#         rameter values. Find the best regularization parameter using an exhaustive search\n",
    "#         procedure. Describe your choice via suitable plots. What is the performance differ-\n",
    "#         ence between using regularization and no regularization?\n",
    "\n",
    "j = 0\n",
    "train_acc = []\n",
    "test_acc = []\n",
    "for i in range(1000, 5000, 1000):\n",
    "    W1, b1, W2, b2, loss = my_own_batch_sgd_ffn_leaky(X_train,y_train,i/1000000,0.1,10000)\n",
    "    # Performance check\n",
    "    # Performance check\n",
    "    # Performance check\n",
    "    training_precision= get_train_accuracy_ffn_leaky(X_train,y_train,W1,b1,W2,b2)\n",
    "    test_precision= get_test_accuracy_ffn_leaky(X_test,y_test,W1,b1,W2,b2)\n",
    "    \n",
    "    train_acc.append(training_precision)\n",
    "    test_acc.append(test_precision)\n",
    "    "
   ]
  },
  {
   "cell_type": "code",
   "execution_count": 184,
   "metadata": {
    "collapsed": false,
    "scrolled": true
   },
   "outputs": [
    {
     "data": {
      "image/png": "[encoded data removed]",
      "text/plain": [
       "<matplotlib.figure.Figure at 0x19234ae2978>"
      ]
     },
     "metadata": {},
     "output_type": "display_data"
    }
   ],
   "source": [
    "plt.plot(np.arange(0, len(train_acc)),train_acc,'r',label = \"Train accuracy\") \n",
    "plt.plot(np.arange(0, len(train_acc)),test_acc,'g',label = \"Test accuracy\")\n",
    "plt.xlabel(\"Regularization in 10^-2\")\n",
    "plt.ylabel(\"Accuracy\")\n",
    "plt.title(\"Sensitivity of the model\")\n",
    "plt.legend(bbox_to_anchor=(1.05, 1), loc=2, borderaxespad=0.)\n",
    "#plt.text(100, max(train_acc[2])-max(train_acc[2]/10), 'Test accuracy' ,color = 'green')\n",
    "#plt.text(100, max(train_acc[2])-max(train_acc[2]/8), 'Train accuracy' ,color = 'red')\n",
    "plt.show()"
   ]
  },
  {
   "cell_type": "code",
   "execution_count": 185,
   "metadata": {
    "collapsed": false
   },
   "outputs": [
    {
     "name": "stdout",
     "output_type": "stream",
     "text": [
      "(150, 2) (150,)\n",
      "### Exiting batch execution  |  Loss = 0.255425793386\n",
      "Accuracy Train :  0.94\n",
      "Accuracy Test :  0.94\n"
     ]
    },
    {
     "data": {
      "text/plain": [
       "0.93999999999999995"
      ]
     },
     "execution_count": 185,
     "metadata": {},
     "output_type": "execute_result"
    }
   ],
   "source": [
    "#5.2.4.7\n",
    "\n",
    "\n",
    "test_proportion = 0.5\n",
    "X_train, X_Val, y_train, y_Val = split_data(X,y,test_proportion)\n",
    "\n",
    "W1, b1, W2, b2, loss = my_own_batch_sgd_ffn_leaky(X_train,y_train,0.0005,0.1,10000)\n",
    "\n",
    "get_train_accuracy_ffn_leaky(X_train,y_train,W1, b1, W2, b2)\n",
    "get_test_accuracy_ffn_leaky(X_Val,y_Val, W1, b1, W2, b2)\n"
   ]
  },
  {
   "cell_type": "code",
   "execution_count": 242,
   "metadata": {
    "collapsed": true
   },
   "outputs": [],
   "source": [
    "def my_own_batch_sgd_ffn_maxout(X_train,y_train,reg,learning_rate,num_iter):\n",
    "    hid_lyr_neurons = 32\n",
    "    D = X_train.shape[1]\n",
    "    k = int(max(y_train)+ 1)\n",
    "    W = 0.01*np.random.randn(D,hid_lyr_neurons)   \n",
    "    b = np.zeros((1,hid_lyr_neurons))\n",
    "    W2 = 0.01*np.random.randn(D,hid_lyr_neurons)   \n",
    "    b2 = np.zeros((1,hid_lyr_neurons))\n",
    "    W3 = 0.01 * np.random.randn(hid_lyr_neurons,k)\n",
    "    b3 = np.zeros((1,k))\n",
    "    W,b,W2,b2,W3,b3,total_loss = reg_log_loss_layer_maxout(X_train,y_train,W,b,W2,b2,W3,b3,reg,learning_rate,num_iter)\n",
    "    print(\"### Exiting batch execution  |  Loss =\", loss)\n",
    "    return W,b,W2,b2,W3,b3,total_loss;"
   ]
  },
  {
   "cell_type": "code",
   "execution_count": 243,
   "metadata": {
    "collapsed": true
   },
   "outputs": [],
   "source": [
    "#5.3\n",
    "def reg_log_loss_layer_maxout(x_train,y_train,W,b,W2,b2,W3,b3,reg,step_size,iterations):\n",
    "    \n",
    "    num_examples = x_train.shape[0]\n",
    "    \n",
    "    total_loss = np.zeros(iterations)\n",
    "    for i in range(0, iterations):\n",
    "    \n",
    "        hidden_layer = np.dot(x_train, W) + b # note, ReLU activation\n",
    "        hidden_layer1 = np.dot(x_train, W2) + b2\n",
    "        scores = np.dot(np.maximum(hidden_layer, hidden_layer1), W3) + b3\n",
    "    \n",
    "    # compute the class probabilities\n",
    "        exp_scores = np.exp(scores)\n",
    "        probs = exp_scores / np.sum(exp_scores, axis=1, keepdims=True)# [N x K]\n",
    "    #axis = 1 means row wise addition\n",
    "    \n",
    "        corect_logprobs = -np.log(probs[range(num_examples),y_train])\n",
    "   \n",
    "        data_loss = np.sum(corect_logprobs)/num_examples\n",
    "        L2_loss = 0.5*reg*np.sum(W*W) + 0.5*reg*np.sum(W2*W2) + 0.5*reg*np.sum(W3*W3)\n",
    "        log_L2_loss = data_loss + L2_loss\n",
    "        #log_L1_loss = data_loss + L1_loss\n",
    "        #L1_loss = 0.5*reg*np.sum(np.absolute(W)) + 0.5*reg*np.sum(np.absolute(W2)) + 0.5*reg*np.sum(np.absolute(W3))\n",
    "        #total_loss[i]=log_L2_loss \n",
    "        #if i % 10 == 0:\n",
    "        #    print(\"iteration: \", i, \" loss = \",log_L2_loss)\n",
    "    # compute the gradient on scores\n",
    "        dscores = probs\n",
    "        dscores[range(num_examples),y_train] -= 1\n",
    "        dscores /= num_examples\n",
    "  \n",
    "    # backpropate the gradient to the parameters (W,b)\n",
    "        dW3 = np.dot(np.maximum(hidden_layer.T, hidden_layer1.T), dscores)\n",
    "        db3 = np.sum(dscores, axis=0, keepdims=True) \n",
    "        \n",
    "    # next backprop into hidden layer\n",
    "        dhidden = np.dot(dscores, W3.T)\n",
    "        dhidden1 = np.dot(dscores, W3.T)\n",
    "    # backprop the ReLU non-linearity\n",
    "        dhidden[hidden_layer1 < hidden_layer] = 0*dhidden[np.where(hidden_layer1 < hidden_layer)] #backpropogate the relu non-linearity or not\n",
    "        dhidden1[hidden_layer1 > hidden_layer] = 0*dhidden[np.where(hidden_layer1 > hidden_layer)]\n",
    "    # backpropate the gradient to the parameters (W,b)\n",
    "        dW2 = np.dot(x_train.T, dhidden)\n",
    "        db2 = np.sum(dhidden, axis=0, keepdims=True)\n",
    "        \n",
    "    # next backprop into hidden layer\n",
    "        #dhidden1 = np.dot(dscores, x_train.T)\n",
    "    # backprop the ReLU non-linearity\n",
    "        #dhidden1[hidden_layer <= 0] = 0\n",
    "        #dhidden = np.maximum(dhidden,dhidden1)\n",
    "        \n",
    "    # finally into W,b\n",
    "        dW = np.dot(x_train.T, dhidden1)\n",
    "        db = np.sum(dhidden1, axis=0, keepdims=True)\n",
    "  \n",
    "  \n",
    "      # add regularization gradient contribution\n",
    "        dW3 += reg * W3\n",
    "        dW2 += reg * W2\n",
    "        dW  += reg * W\n",
    "  \n",
    "     # perform a parameter update\n",
    "        W += -step_size * dW\n",
    "        b += -step_size * db\n",
    "        W2 += -step_size * dW2\n",
    "        b2 += -step_size * db2\n",
    "        W3 += -step_size * dW3\n",
    "        b3 += -step_size * db3\n",
    "    return W,b,W2,b2,W3,b3,total_loss;"
   ]
  },
  {
   "cell_type": "code",
   "execution_count": 244,
   "metadata": {
    "collapsed": true
   },
   "outputs": [],
   "source": [
    "def get_train_accuracy_maxout(X_train,y_train,W, b, W2, b2, W3, b3):\n",
    "    y_hat_train = np.argmax(np.dot(np.maximum(np.dot(X_train, W) + b, np.dot(X_train, W2) + b2), W3) + b3, axis = 1)\n",
    "    training_precision = np.mean(y_hat_train == y_train)\n",
    "    print(\"Accuracy Train : \",training_precision)\n",
    "    return training_precision;\n",
    "\n",
    "def get_test_accuracy_maxout(X_test,y_test,W, b, W2, b2, W3, b3):\n",
    "    y_hat_test = np.argmax(np.dot(np.maximum(np.dot(X_test, W) + b, np.dot(X_test, W2) + b2), W3) + b3, axis = 1)\n",
    "    test_precision = np.mean(y_hat_test == y_test)\n",
    "    print(\"Accuracy Test  : \",test_precision)\n",
    "    return test_precision;"
   ]
  },
  {
   "cell_type": "code",
   "execution_count": 245,
   "metadata": {
    "collapsed": false
   },
   "outputs": [
    {
     "name": "stdout",
     "output_type": "stream",
     "text": [
      "(240, 2) (240,)\n",
      "### Exiting batch execution  |  Loss = [ 0.  0.  0. ...,  0.  0.  0.]\n",
      "Accuracy Train :  0.954166666667\n",
      "Accuracy Test  :  0.95\n"
     ]
    },
    {
     "data": {
      "text/plain": [
       "0.94999999999999996"
      ]
     },
     "execution_count": 245,
     "metadata": {},
     "output_type": "execute_result"
    }
   ],
   "source": [
    "test_proportion = 0.2\n",
    "X_train, X_Val, y_train, y_Val = split_data(X,y,test_proportion)\n",
    "\n",
    "W, b, W2, b2, W3, b3, loss = my_own_batch_sgd_ffn_maxout(X_train,y_train,0.0005,0.1,10000)\n",
    "\n",
    "get_train_accuracy_maxout(X_train,y_train,W, b, W2, b2, W3, b3)\n",
    "get_test_accuracy_maxout(X_test,y_test,W, b, W2, b2, W3, b3)"
   ]
  },
  {
   "cell_type": "code",
   "execution_count": 198,
   "metadata": {
    "collapsed": false
   },
   "outputs": [
    {
     "name": "stdout",
     "output_type": "stream",
     "text": [
      "### Exiting batch execution  |  Loss = [ 0.  0.  0. ...,  0.  0.  0.]\n",
      "0.916666666667\n",
      "### Exiting batch execution  |  Loss = [ 0.  0.  0. ...,  0.  0.  0.]\n",
      "0.916666666667\n",
      "### Exiting batch execution  |  Loss = [ 0.  0.  0. ...,  0.  0.  0.]\n",
      "0.958333333333\n",
      "### Exiting batch execution  |  Loss = [ 0.  0.  0. ...,  0.  0.  0.]\n",
      "0.916666666667\n",
      "### Exiting batch execution  |  Loss = [ 0.  0.  0. ...,  0.  0.  0.]\n",
      "0.958333333333\n",
      "### Exiting batch execution  |  Loss = [ 0.  0.  0. ...,  0.  0.  0.]\n",
      "0.916666666667\n",
      "### Exiting batch execution  |  Loss = [ 0.  0.  0. ...,  0.  0.  0.]\n",
      "0.916666666667\n",
      "### Exiting batch execution  |  Loss = [ 0.  0.  0. ...,  0.  0.  0.]\n",
      "1.0\n",
      "### Exiting batch execution  |  Loss = [ 0.  0.  0. ...,  0.  0.  0.]\n",
      "1.0\n",
      "### Exiting batch execution  |  Loss = [ 0.  0.  0. ...,  0.  0.  0.]\n",
      "0.958333333333\n"
     ]
    }
   ],
   "source": [
    "#5.3.4.4\n",
    "from sklearn import cross_validation\n",
    "cv = cross_validation.KFold(len(X_train), n_folds=10, shuffle=True) # 43200 & 4800 each\n",
    "for train_indices, test_indices in cv:  \n",
    "    W, b, W2, b2, W3, b3, loss = my_own_batch_sgd_ffn_maxout(X_train[train_indices],y_train[train_indices],0.0005,0.1,10000)\n",
    "    y_hat_test = np.argmax(np.dot(np.maximum(np.dot(X_train[test_indices], W) + b, np.dot(X_train[test_indices], W2) + b2), W3) + b3, axis = 1)\n",
    "    test_precision = np.mean(y_hat_test == y_train[test_indices])\n",
    "    print(test_precision)\n",
    "    "
   ]
  },
  {
   "cell_type": "code",
   "execution_count": 203,
   "metadata": {
    "collapsed": false
   },
   "outputs": [
    {
     "name": "stdout",
     "output_type": "stream",
     "text": [
      "(240, 2) (240,)\n",
      "### Exiting batch execution  |  Loss = [ 0.  0.  0.  0.  0.  0.  0.  0.  0.  0.]\n",
      "Accuracy Train :  0.508333333333\n",
      "Accuracy Test  :  0.5\n",
      "### Exiting batch execution  |  Loss = [ 0.  0.  0.  0.  0.  0.  0.  0.  0.  0.]\n",
      "Accuracy Train :  0.579166666667\n",
      "Accuracy Test  :  0.533333333333\n",
      "### Exiting batch execution  |  Loss = [ 0.  0.  0.  0.  0.  0.  0.  0.  0.  0.  0.  0.  0.  0.  0.  0.  0.  0.\n",
      "  0.  0.  0.  0.  0.  0.  0.  0.  0.  0.  0.  0.  0.  0.  0.  0.  0.  0.\n",
      "  0.  0.  0.  0.  0.  0.  0.  0.  0.  0.  0.  0.  0.  0.  0.  0.  0.  0.\n",
      "  0.  0.  0.  0.  0.  0.  0.  0.  0.  0.  0.  0.  0.  0.  0.  0.  0.  0.\n",
      "  0.  0.  0.  0.  0.  0.  0.  0.  0.  0.  0.  0.  0.  0.  0.  0.  0.  0.\n",
      "  0.  0.  0.  0.  0.  0.  0.  0.  0.  0.  0.  0.  0.  0.  0.  0.  0.  0.\n",
      "  0.  0.  0.  0.  0.  0.  0.  0.  0.  0.  0.  0.  0.  0.  0.  0.  0.  0.\n",
      "  0.  0.  0.  0.  0.  0.  0.  0.  0.  0.  0.  0.  0.  0.  0.  0.  0.  0.\n",
      "  0.  0.  0.  0.  0.  0.  0.  0.  0.  0.  0.  0.  0.  0.  0.  0.  0.  0.\n",
      "  0.  0.  0.  0.  0.  0.  0.  0.  0.  0.  0.  0.  0.  0.  0.  0.  0.  0.\n",
      "  0.  0.  0.  0.  0.  0.  0.  0.  0.  0.  0.  0.  0.  0.  0.  0.  0.  0.\n",
      "  0.  0.  0.  0.  0.  0.  0.  0.  0.  0.  0.  0.  0.  0.  0.  0.  0.  0.\n",
      "  0.  0.  0.  0.  0.  0.  0.  0.  0.  0.  0.  0.  0.  0.  0.  0.  0.  0.\n",
      "  0.  0.  0.  0.  0.  0.  0.  0.  0.  0.  0.  0.  0.  0.  0.  0.  0.  0.\n",
      "  0.  0.  0.  0.  0.  0.  0.  0.  0.  0.  0.  0.  0.  0.  0.  0.  0.  0.\n",
      "  0.  0.  0.  0.  0.  0.  0.  0.  0.  0.  0.  0.  0.  0.  0.  0.  0.  0.\n",
      "  0.  0.  0.  0.  0.  0.  0.  0.  0.  0.  0.  0.  0.  0.  0.  0.  0.  0.\n",
      "  0.  0.  0.  0.  0.  0.  0.  0.  0.  0.  0.  0.  0.  0.  0.  0.  0.  0.\n",
      "  0.  0.  0.  0.  0.  0.  0.  0.  0.  0.  0.  0.  0.  0.  0.  0.  0.  0.\n",
      "  0.  0.  0.  0.  0.  0.  0.  0.  0.  0.  0.  0.  0.  0.  0.  0.  0.  0.\n",
      "  0.  0.  0.  0.  0.  0.  0.  0.  0.  0.  0.  0.  0.  0.  0.  0.  0.  0.\n",
      "  0.  0.  0.  0.  0.  0.  0.  0.  0.  0.  0.  0.  0.  0.  0.  0.  0.  0.\n",
      "  0.  0.  0.  0.  0.  0.  0.  0.  0.  0.  0.  0.  0.  0.  0.  0.  0.  0.\n",
      "  0.  0.  0.  0.  0.  0.  0.  0.  0.  0.  0.  0.  0.  0.  0.  0.  0.  0.\n",
      "  0.  0.  0.  0.  0.  0.  0.  0.  0.  0.  0.  0.  0.  0.  0.  0.  0.  0.\n",
      "  0.  0.  0.  0.  0.  0.  0.  0.  0.  0.  0.  0.  0.  0.  0.  0.  0.  0.\n",
      "  0.  0.  0.  0.  0.  0.  0.  0.  0.  0.  0.  0.  0.  0.  0.  0.  0.  0.\n",
      "  0.  0.  0.  0.  0.  0.  0.  0.  0.  0.  0.  0.  0.  0.  0.  0.  0.  0.\n",
      "  0.  0.  0.  0.  0.  0.]\n",
      "Accuracy Train :  0.675\n",
      "Accuracy Test  :  0.633333333333\n",
      "### Exiting batch execution  |  Loss = [ 0.  0.  0. ...,  0.  0.  0.]\n",
      "Accuracy Train :  0.775\n",
      "Accuracy Test  :  0.733333333333\n",
      "### Exiting batch execution  |  Loss = [ 0.  0.  0. ...,  0.  0.  0.]\n",
      "Accuracy Train :  0.8375\n",
      "Accuracy Test  :  0.766666666667\n",
      "### Exiting batch execution  |  Loss = [ 0.  0.  0. ...,  0.  0.  0.]\n",
      "Accuracy Train :  0.833333333333\n",
      "Accuracy Test  :  0.816666666667\n",
      "### Exiting batch execution  |  Loss = [ 0.  0.  0. ...,  0.  0.  0.]\n",
      "Accuracy Train :  0.858333333333\n",
      "Accuracy Test  :  0.866666666667\n",
      "### Exiting batch execution  |  Loss = [ 0.  0.  0. ...,  0.  0.  0.]\n",
      "Accuracy Train :  0.9\n",
      "Accuracy Test  :  0.9\n",
      "### Exiting batch execution  |  Loss = [ 0.  0.  0. ...,  0.  0.  0.]\n",
      "Accuracy Train :  0.9375\n",
      "Accuracy Test  :  0.933333333333\n",
      "### Exiting batch execution  |  Loss = [ 0.  0.  0. ...,  0.  0.  0.]\n",
      "Accuracy Train :  0.925\n",
      "Accuracy Test  :  0.9\n",
      "### Exiting batch execution  |  Loss = [ 0.  0.  0. ...,  0.  0.  0.]\n",
      "Accuracy Train :  0.945833333333\n",
      "Accuracy Test  :  0.95\n",
      "### Exiting batch execution  |  Loss = [ 0.  0.  0. ...,  0.  0.  0.]\n",
      "Accuracy Train :  0.945833333333\n",
      "Accuracy Test  :  0.933333333333\n",
      "### Exiting batch execution  |  Loss = [ 0.  0.  0. ...,  0.  0.  0.]\n",
      "Accuracy Train :  0.95\n",
      "Accuracy Test  :  0.95\n",
      "### Exiting batch execution  |  Loss = [ 0.  0.  0. ...,  0.  0.  0.]\n",
      "Accuracy Train :  0.954166666667\n",
      "Accuracy Test  :  0.95\n",
      "### Exiting batch execution  |  Loss = [ 0.  0.  0. ...,  0.  0.  0.]\n",
      "Accuracy Train :  0.9625\n",
      "Accuracy Test  :  0.95\n",
      "### Exiting batch execution  |  Loss = [ 0.  0.  0. ...,  0.  0.  0.]\n",
      "Accuracy Train :  0.954166666667\n",
      "Accuracy Test  :  0.95\n",
      "### Exiting batch execution  |  Loss = [ 0.  0.  0. ...,  0.  0.  0.]\n",
      "Accuracy Train :  0.966666666667\n",
      "Accuracy Test  :  0.95\n",
      "### Exiting batch execution  |  Loss = [ 0.  0.  0. ...,  0.  0.  0.]\n",
      "Accuracy Train :  0.9625\n",
      "Accuracy Test  :  0.95\n",
      "### Exiting batch execution  |  Loss = [ 0.  0.  0. ...,  0.  0.  0.]\n",
      "Accuracy Train :  0.9625\n",
      "Accuracy Test  :  0.966666666667\n",
      "### Exiting batch execution  |  Loss = [ 0.  0.  0. ...,  0.  0.  0.]\n",
      "Accuracy Train :  0.966666666667\n",
      "Accuracy Test  :  0.966666666667\n"
     ]
    }
   ],
   "source": [
    "#5.3 4.5\n",
    "# What is the sensitivity of the model's performance to different learning rates\n",
    "# the number of gradient descent iterations. Describe via suitable plots.\n",
    "\n",
    "test_proportion = 0.2\n",
    "X_train, X_test, y_train, y_test = split_data(X,y,test_proportion)\n",
    "j = 0\n",
    "train_acc = []\n",
    "test_acc = []\n",
    "for i in range(10, 10000, 500):\n",
    "    W1, b1, W2, b2,W3,b3,loss = my_own_batch_sgd_ffn_maxout(X_train,y_train,0.0005,0.1,i)\n",
    "    \n",
    "    # Performance check\n",
    "    training_precision= get_train_accuracy_maxout(X_train,y_train,W1,b1,W2,b2,W3,b3)\n",
    "    test_precision= get_test_accuracy_maxout(X_test,y_test,W1,b1,W2,b2,W3,b3)\n",
    "    \n",
    "    train_acc.append(training_precision)\n",
    "    test_acc.append(test_precision)\n"
   ]
  },
  {
   "cell_type": "code",
   "execution_count": 205,
   "metadata": {
    "collapsed": false
   },
   "outputs": [
    {
     "data": {
      "image/png": "[encoded data removed]",
      "text/plain": [
       "<matplotlib.figure.Figure at 0x19234f9ebe0>"
      ]
     },
     "metadata": {},
     "output_type": "display_data"
    }
   ],
   "source": [
    "plt.plot(np.arange(0, len(train_acc)),train_acc,'r',label = \"Train accuracy\") \n",
    "plt.plot(np.arange(0, len(train_acc)),test_acc,'g',label = \"Test accuracy\")\n",
    "plt.xlabel(\"# Num of iterations in hundreds\")\n",
    "plt.ylabel(\"Accuracy\")\n",
    "plt.title(\"Sensitivity of the model\")\n",
    "plt.legend(bbox_to_anchor=(1.05, 1), loc=2, borderaxespad=0.)\n",
    "#plt.text(100, max(train_acc[2])-max(train_acc[2]/10), 'Test accuracy' ,color = 'green')\n",
    "#plt.text(100, max(train_acc[2])-max(train_acc[2]/8), 'Train accuracy' ,color = 'red')\n",
    "plt.show()"
   ]
  },
  {
   "cell_type": "code",
   "execution_count": 206,
   "metadata": {
    "collapsed": false
   },
   "outputs": [
    {
     "name": "stdout",
     "output_type": "stream",
     "text": [
      "### Exiting batch execution  |  Loss = [ 0.  0.  0. ...,  0.  0.  0.]\n",
      "Accuracy Train :  0.533333333333\n",
      "Accuracy Test  :  0.483333333333\n",
      "### Exiting batch execution  |  Loss = [ 0.  0.  0. ...,  0.  0.  0.]\n",
      "Accuracy Train :  0.966666666667\n",
      "Accuracy Test  :  0.983333333333\n",
      "### Exiting batch execution  |  Loss = [ 0.  0.  0. ...,  0.  0.  0.]\n",
      "Accuracy Train :  0.979166666667\n",
      "Accuracy Test  :  0.983333333333\n",
      "### Exiting batch execution  |  Loss = [ 0.  0.  0. ...,  0.  0.  0.]\n",
      "Accuracy Train :  0.9875\n",
      "Accuracy Test  :  1.0\n"
     ]
    }
   ],
   "source": [
    "#5.3.4.5 Gradient Descent\n",
    "j = 0\n",
    "train_acc = []\n",
    "test_acc = []\n",
    "for i in range(1, 4000, 1000):\n",
    "    W1, b1, W2, b2,W3,b3,loss = my_own_batch_sgd_ffn_maxout(X_train,y_train,0.0005,i/10000,10000)\n",
    "    # Performance check\n",
    "    # Performance check\n",
    "    training_precision= get_train_accuracy_maxout(X_train,y_train,W1,b1,W2,b2,W3,b3)\n",
    "    test_precision= get_test_accuracy_maxout(X_test,y_test,W1,b1,W2,b2,W3,b3)\n",
    "    \n",
    "    train_acc.append(training_precision)\n",
    "    test_acc.append(test_precision)"
   ]
  },
  {
   "cell_type": "code",
   "execution_count": 207,
   "metadata": {
    "collapsed": false
   },
   "outputs": [
    {
     "data": {
      "image/png": "[encoded data removed]",
      "text/plain": [
       "<matplotlib.figure.Figure at 0x19234fb8f60>"
      ]
     },
     "metadata": {},
     "output_type": "display_data"
    }
   ],
   "source": [
    "plt.plot(np.arange(0, len(train_acc)),train_acc,'r',label = \"Train accuracy\") \n",
    "plt.plot(np.arange(0, len(train_acc)),test_acc,'g',label = \"Test accuracy\")\n",
    "plt.xlabel(\"Learning rate in 10^-1\")\n",
    "plt.ylabel(\"Accuracy\")\n",
    "plt.title(\"Sensitivity of the model\")\n",
    "plt.legend(bbox_to_anchor=(1.05, 1), loc=2, borderaxespad=0.)\n",
    "#plt.text(100, max(train_acc[2])-max(train_acc[2]/10), 'Test accuracy' ,color = 'green')\n",
    "#plt.text(100, max(train_acc[2])-max(train_acc[2]/8), 'Train accuracy' ,color = 'red')\n",
    "plt.show()"
   ]
  },
  {
   "cell_type": "code",
   "execution_count": 210,
   "metadata": {
    "collapsed": false
   },
   "outputs": [
    {
     "name": "stdout",
     "output_type": "stream",
     "text": [
      "### Exiting batch execution  |  Loss = [ 0.  0.  0. ...,  0.  0.  0.]\n",
      "Accuracy Train :  0.954166666667\n",
      "Accuracy Test  :  0.95\n",
      "### Exiting batch execution  |  Loss = [ 0.  0.  0. ...,  0.  0.  0.]\n",
      "Accuracy Train :  0.954166666667\n",
      "Accuracy Test  :  0.95\n",
      "### Exiting batch execution  |  Loss = [ 0.  0.  0. ...,  0.  0.  0.]\n",
      "Accuracy Train :  0.920833333333\n",
      "Accuracy Test  :  0.933333333333\n",
      "### Exiting batch execution  |  Loss = [ 0.  0.  0. ...,  0.  0.  0.]\n",
      "Accuracy Train :  0.8875\n",
      "Accuracy Test  :  0.916666666667\n"
     ]
    }
   ],
   "source": [
    "# 5.3.4.6 What is the sensitivity of the model's performance to different regularization pa-\n",
    "#         rameter values. Find the best regularization parameter using an exhaustive search\n",
    "#         procedure. Describe your choice via suitable plots. What is the performance differ-\n",
    "#         ence between using regularization and no regularization?\n",
    "\n",
    "j = 0\n",
    "train_acc = []\n",
    "test_acc = []\n",
    "for i in range(1000, 5000, 1000):\n",
    "    W1, b1, W2, b2,W3,b3,loss = my_own_batch_sgd_ffn_maxout(X_train,y_train,i/1000000,0.1,10000)\n",
    "    # Performance check\n",
    "    # Performance check\n",
    "    # Performance check\n",
    "    training_precision= get_train_accuracy_maxout(X_train,y_train,W1,b1,W2,b2,W3,b3)\n",
    "    test_precision= get_test_accuracy_maxout(X_test,y_test,W1,b1,W2,b2,W3,b3)\n",
    "    \n",
    "    train_acc.append(training_precision)\n",
    "    test_acc.append(test_precision)"
   ]
  },
  {
   "cell_type": "code",
   "execution_count": 211,
   "metadata": {
    "collapsed": false
   },
   "outputs": [
    {
     "data": {
      "image/png": "[encoded data removed]",
      "text/plain": [
       "<matplotlib.figure.Figure at 0x19235142358>"
      ]
     },
     "metadata": {},
     "output_type": "display_data"
    }
   ],
   "source": [
    "plt.plot(np.arange(0, len(train_acc)),train_acc,'r',label = \"Train accuracy\") \n",
    "plt.plot(np.arange(0, len(train_acc)),test_acc,'g',label = \"Test accuracy\")\n",
    "plt.xlabel(\"Regularization in 10^-2\")\n",
    "plt.ylabel(\"Accuracy\")\n",
    "plt.title(\"Sensitivity of the model\")\n",
    "plt.legend(bbox_to_anchor=(1.05, 1), loc=2, borderaxespad=0.)\n",
    "#plt.text(100, max(train_acc[2])-max(train_acc[2]/10), 'Test accuracy' ,color = 'green')\n",
    "#plt.text(100, max(train_acc[2])-max(train_acc[2]/8), 'Train accuracy' ,color = 'red')\n",
    "plt.show()"
   ]
  },
  {
   "cell_type": "code",
   "execution_count": 246,
   "metadata": {
    "collapsed": false
   },
   "outputs": [
    {
     "name": "stdout",
     "output_type": "stream",
     "text": [
      "(150, 2) (150,)\n",
      "### Exiting batch execution  |  Loss = [ 0.  0.  0. ...,  0.  0.  0.]\n",
      "Accuracy Train :  0.94\n",
      "Accuracy Test  :  0.916666666667\n"
     ]
    },
    {
     "data": {
      "text/plain": [
       "0.91666666666666663"
      ]
     },
     "execution_count": 246,
     "metadata": {},
     "output_type": "execute_result"
    }
   ],
   "source": [
    "#5.3.4.7\n",
    "test_proportion = 0.5\n",
    "X_train, X_Val, y_train, y_Val = split_data(X,y,test_proportion)\n",
    "\n",
    "W, b, W2, b2, W3, b3, loss = my_own_batch_sgd_ffn_maxout(X_train,y_train,0.0005,0.1,10000)\n",
    "\n",
    "get_train_accuracy_maxout(X_train,y_train,W, b, W2, b2, W3, b3)\n",
    "get_test_accuracy_maxout(X_test,y_test,W, b, W2, b2, W3, b3)"
   ]
  },
  {
   "cell_type": "code",
   "execution_count": null,
   "metadata": {
    "collapsed": true
   },
   "outputs": [],
   "source": [
    "## *When Hidden Layer Change From 10 to 1000*"
   ]
  },
  {
   "cell_type": "code",
   "execution_count": 216,
   "metadata": {
    "collapsed": false
   },
   "outputs": [
    {
     "name": "stdout",
     "output_type": "stream",
     "text": [
      "(240, 2) (240,)\n",
      "### Exiting batch execution  |  Loss = 0.296975200557\n",
      "Accuracy Train :  0.908333333333\n",
      "Accuracy Test  :  0.9\n"
     ]
    },
    {
     "data": {
      "text/plain": [
       "0.90000000000000002"
      ]
     },
     "execution_count": 216,
     "metadata": {},
     "output_type": "execute_result"
    }
   ],
   "source": [
    "def my_own_batch_sgd_ffn_neuron(X_train,y_train,reg,learning_rate,num_iter):\n",
    "    hid_lyr_neurons = 10\n",
    "    D = X_train.shape[1]\n",
    "    k = int(max(y_train)+ 1)\n",
    "    W1 = 0.01*np.random.randn(D,hid_lyr_neurons)   \n",
    "    b1 = np.zeros((1,hid_lyr_neurons))\n",
    "    W2 = 0.01*np.random.randn(hid_lyr_neurons,k)   \n",
    "    b2 = np.zeros((1,k))\n",
    "    batch_size = 48\n",
    "    \n",
    "    W1, b1, W2, b2, loss = two_layer_ffnn(X_train,y_train,W1,b1,W2,b2,reg,learning_rate,num_iter)\n",
    "    print(\"### Exiting batch execution  |  Loss =\", loss)\n",
    "    return W1, b1, W2, b2, loss;\n",
    "\n",
    "test_proportion = 0.2\n",
    "X_train, X_Val, y_train, y_Val = split_data(X,y,test_proportion)\n",
    "\n",
    "W1, b1, W2, b2, loss = my_own_batch_sgd_ffn_neuron(X_train,y_train,0.0005,0.1,10000)\n",
    "\n",
    "get_train_accuracy_ffn(X_train,y_train,W1, b1, W2, b2)\n",
    "get_test_accuracy_ffn(X_Val,y_Val, W1, b1, W2, b2)"
   ]
  },
  {
   "cell_type": "code",
   "execution_count": 217,
   "metadata": {
    "collapsed": false
   },
   "outputs": [
    {
     "name": "stdout",
     "output_type": "stream",
     "text": [
      "(240, 2) (240,)\n",
      "### Exiting batch execution  |  Loss = 0.195872490106\n",
      "Accuracy Train :  0.970833333333\n",
      "Accuracy Test  :  0.95\n"
     ]
    },
    {
     "data": {
      "text/plain": [
       "0.94999999999999996"
      ]
     },
     "execution_count": 217,
     "metadata": {},
     "output_type": "execute_result"
    }
   ],
   "source": [
    "def my_own_batch_sgd_ffn_neuron(X_train,y_train,reg,learning_rate,num_iter):\n",
    "    hid_lyr_neurons = 1000\n",
    "    D = X_train.shape[1]\n",
    "    k = int(max(y_train)+ 1)\n",
    "    W1 = 0.01*np.random.randn(D,hid_lyr_neurons)   \n",
    "    b1 = np.zeros((1,hid_lyr_neurons))\n",
    "    W2 = 0.01*np.random.randn(hid_lyr_neurons,k)   \n",
    "    b2 = np.zeros((1,k))\n",
    "    batch_size = 48\n",
    "    \n",
    "    W1, b1, W2, b2, loss = two_layer_ffnn(X_train,y_train,W1,b1,W2,b2,reg,learning_rate,num_iter)\n",
    "    print(\"### Exiting batch execution  |  Loss =\", loss)\n",
    "    return W1, b1, W2, b2, loss;\n",
    "\n",
    "test_proportion = 0.2\n",
    "X_train, X_Val, y_train, y_Val = split_data(X,y,test_proportion)\n",
    "\n",
    "W1, b1, W2, b2, loss = my_own_batch_sgd_ffn_neuron(X_train,y_train,0.0005,0.1,10000)\n",
    "\n",
    "get_train_accuracy_ffn(X_train,y_train,W1, b1, W2, b2)\n",
    "get_test_accuracy_ffn(X_Val,y_Val, W1, b1, W2, b2)"
   ]
  },
  {
   "cell_type": "code",
   "execution_count": 219,
   "metadata": {
    "collapsed": false
   },
   "outputs": [
    {
     "name": "stdout",
     "output_type": "stream",
     "text": [
      "(240, 2) (240,)\n",
      "### Exiting batch execution  |  Loss = 0.253645807437\n",
      "Accuracy Train :  0.933333333333\n",
      "Accuracy Test :  0.933333333333\n"
     ]
    },
    {
     "data": {
      "text/plain": [
       "0.93333333333333335"
      ]
     },
     "execution_count": 219,
     "metadata": {},
     "output_type": "execute_result"
    }
   ],
   "source": [
    "def my_own_batch_sgd_ffn_leaky(X_train,y_train,reg,learning_rate,num_iter):\n",
    "    hid_lyr_neurons = 10\n",
    "    D = X_train.shape[1]\n",
    "    k = int(max(y_train)+ 1)\n",
    "    W1 = 0.01*np.random.randn(D,hid_lyr_neurons)   \n",
    "    b1 = np.zeros((1,hid_lyr_neurons))\n",
    "    W2 = 0.01*np.random.randn(hid_lyr_neurons,k)   \n",
    "    b2 = np.zeros((1,k))\n",
    "    W1, b1, W2, b2, loss = two_layer_ffnn_leaky_relu(X_train,y_train,W1,b1,W2,b2,reg,learning_rate,num_iter)\n",
    "    print(\"### Exiting batch execution  |  Loss =\", loss)\n",
    "    return W1, b1, W2, b2, loss;\n",
    "\n",
    "test_proportion = 0.2\n",
    "X_train, X_Val, y_train, y_Val = split_data(X,y,test_proportion)\n",
    "\n",
    "W1, b1, W2, b2, loss = my_own_batch_sgd_ffn_leaky(X_train,y_train,0.0005,0.1,10000)\n",
    "\n",
    "get_train_accuracy_ffn_leaky(X_train,y_train,W1, b1, W2, b2)\n",
    "get_test_accuracy_ffn_leaky(X_Val,y_Val, W1, b1, W2, b2)"
   ]
  },
  {
   "cell_type": "code",
   "execution_count": 220,
   "metadata": {
    "collapsed": false
   },
   "outputs": [
    {
     "name": "stdout",
     "output_type": "stream",
     "text": [
      "(240, 2) (240,)\n",
      "### Exiting batch execution  |  Loss = 0.202582891825\n",
      "Accuracy Train :  0.966666666667\n",
      "Accuracy Test :  0.95\n"
     ]
    },
    {
     "data": {
      "text/plain": [
       "0.94999999999999996"
      ]
     },
     "execution_count": 220,
     "metadata": {},
     "output_type": "execute_result"
    }
   ],
   "source": [
    "def my_own_batch_sgd_ffn_leaky(X_train,y_train,reg,learning_rate,num_iter):\n",
    "    hid_lyr_neurons = 1000\n",
    "    D = X_train.shape[1]\n",
    "    k = int(max(y_train)+ 1)\n",
    "    W1 = 0.01*np.random.randn(D,hid_lyr_neurons)   \n",
    "    b1 = np.zeros((1,hid_lyr_neurons))\n",
    "    W2 = 0.01*np.random.randn(hid_lyr_neurons,k)   \n",
    "    b2 = np.zeros((1,k))\n",
    "    W1, b1, W2, b2, loss = two_layer_ffnn_leaky_relu(X_train,y_train,W1,b1,W2,b2,reg,learning_rate,num_iter)\n",
    "    print(\"### Exiting batch execution  |  Loss =\", loss)\n",
    "    return W1, b1, W2, b2, loss;\n",
    "\n",
    "test_proportion = 0.2\n",
    "X_train, X_Val, y_train, y_Val = split_data(X,y,test_proportion)\n",
    "\n",
    "W1, b1, W2, b2, loss = my_own_batch_sgd_ffn_leaky(X_train,y_train,0.0005,0.1,10000)\n",
    "\n",
    "get_train_accuracy_ffn_leaky(X_train,y_train,W1, b1, W2, b2)\n",
    "get_test_accuracy_ffn_leaky(X_Val,y_Val, W1, b1, W2, b2)"
   ]
  },
  {
   "cell_type": "code",
   "execution_count": 222,
   "metadata": {
    "collapsed": false
   },
   "outputs": [
    {
     "name": "stdout",
     "output_type": "stream",
     "text": [
      "(240, 2) (240,)\n",
      "### Exiting batch execution  |  Loss = [ 0.  0.  0. ...,  0.  0.  0.]\n",
      "Accuracy Train :  0.966666666667\n",
      "Accuracy Test  :  0.983333333333\n"
     ]
    },
    {
     "data": {
      "text/plain": [
       "0.98333333333333328"
      ]
     },
     "execution_count": 222,
     "metadata": {},
     "output_type": "execute_result"
    }
   ],
   "source": [
    "def my_own_batch_sgd_ffn_maxout(X_train,y_train,reg,learning_rate,num_iter):\n",
    "    hid_lyr_neurons = 10  # Changed number of hidden units\n",
    "    D = X_train.shape[1]\n",
    "    k = int(max(y_train)+ 1)\n",
    "    W = 0.01*np.random.randn(D,hid_lyr_neurons)   \n",
    "    b = np.zeros((1,hid_lyr_neurons))\n",
    "    W2 = 0.01*np.random.randn(D,hid_lyr_neurons)   \n",
    "    b2 = np.zeros((1,hid_lyr_neurons))\n",
    "    W3 = 0.01 * np.random.randn(hid_lyr_neurons,k)\n",
    "    b3 = np.zeros((1,k))\n",
    "    W,b,W2,b2,W3,b3,total_loss = reg_log_loss_layer_maxout(X_train,y_train,W,b,W2,b2,W3,b3,reg,learning_rate,num_iter)\n",
    "    print(\"### Exiting batch execution  |  Loss =\", loss)\n",
    "    return W,b,W2,b2,W3,b3,total_loss;\n",
    "\n",
    "test_proportion = 0.2\n",
    "X_train, X_Val, y_train, y_Val = split_data(X,y,test_proportion)\n",
    "\n",
    "W, b, W2, b2, W3, b3, loss = my_own_batch_sgd_ffn_maxout(X_train,y_train,0.0005,0.1,10000)\n",
    "\n",
    "get_train_accuracy_maxout(X_train,y_train,W, b, W2, b2, W3, b3)\n",
    "get_test_accuracy_maxout(X_test,y_test,W, b, W2, b2, W3, b3)"
   ]
  },
  {
   "cell_type": "code",
   "execution_count": 221,
   "metadata": {
    "collapsed": false
   },
   "outputs": [
    {
     "name": "stdout",
     "output_type": "stream",
     "text": [
      "(240, 2) (240,)\n",
      "### Exiting batch execution  |  Loss = 0.202582891825\n",
      "Accuracy Train :  0.979166666667\n",
      "Accuracy Test  :  0.983333333333\n"
     ]
    },
    {
     "data": {
      "text/plain": [
       "0.98333333333333328"
      ]
     },
     "execution_count": 221,
     "metadata": {},
     "output_type": "execute_result"
    }
   ],
   "source": [
    "def my_own_batch_sgd_ffn_maxout(X_train,y_train,reg,learning_rate,num_iter):\n",
    "    hid_lyr_neurons = 1000  # Changed number of hidden units\n",
    "    D = X_train.shape[1]\n",
    "    k = int(max(y_train)+ 1)\n",
    "    W = 0.01*np.random.randn(D,hid_lyr_neurons)   \n",
    "    b = np.zeros((1,hid_lyr_neurons))\n",
    "    W2 = 0.01*np.random.randn(D,hid_lyr_neurons)   \n",
    "    b2 = np.zeros((1,hid_lyr_neurons))\n",
    "    W3 = 0.01 * np.random.randn(hid_lyr_neurons,k)\n",
    "    b3 = np.zeros((1,k))\n",
    "    W,b,W2,b2,W3,b3,total_loss = reg_log_loss_layer_maxout(X_train,y_train,W,b,W2,b2,W3,b3,reg,learning_rate,num_iter)\n",
    "    print(\"### Exiting batch execution  |  Loss =\", loss)\n",
    "    return W,b,W2,b2,W3,b3,total_loss;\n",
    "\n",
    "test_proportion = 0.2\n",
    "X_train, X_Val, y_train, y_Val = split_data(X,y,test_proportion)\n",
    "\n",
    "W, b, W2, b2, W3, b3, loss = my_own_batch_sgd_ffn_maxout(X_train,y_train,0.0005,0.1,10000)\n",
    "\n",
    "get_train_accuracy_maxout(X_train,y_train,W, b, W2, b2, W3, b3)\n",
    "get_test_accuracy_maxout(X_test,y_test,W, b, W2, b2, W3, b3)"
   ]
  },
  {
   "cell_type": "code",
   "execution_count": null,
   "metadata": {
    "collapsed": true
   },
   "outputs": [],
   "source": []
  }
 ],
 "metadata": {
  "kernelspec": {
   "display_name": "Python [conda root]",
   "language": "python",
   "name": "conda-root-py"
  },
  "language_info": {
   "codemirror_mode": {
    "name": "ipython",
    "version": 3
   },
   "file_extension": ".py",
   "mimetype": "text/x-python",
   "name": "python",
   "nbconvert_exporter": "python",
   "pygments_lexer": "ipython3",
   "version": "3.5.2"
  }
 },
 "nbformat": 4,
 "nbformat_minor": 1
}
